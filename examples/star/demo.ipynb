{
 "cells": [
  {
   "cell_type": "code",
   "execution_count": null,
   "metadata": {},
   "outputs": [],
   "source": [
    "#!pip install --quiet git+https://github.com/songlab-cal/gpn"
   ]
  },
  {
   "cell_type": "markdown",
   "metadata": {},
   "source": [
    "# Setup"
   ]
  },
  {
   "cell_type": "code",
   "execution_count": 1,
   "metadata": {},
   "outputs": [
    {
     "name": "stderr",
     "output_type": "stream",
     "text": [
      "/accounts/grad/czye/conda/envs/gpn_env/envs/gpn_star/lib/python3.10/site-packages/tqdm/auto.py:21: TqdmWarning: IProgress not found. Please update jupyter and ipywidgets. See https://ipywidgets.readthedocs.io/en/stable/user_install.html\n",
      "  from .autonotebook import tqdm as notebook_tqdm\n"
     ]
    }
   ],
   "source": [
    "from gpn.star.data import GenomeMSA, Tokenizer\n",
    "import gpn.star.model\n",
    "from gpn.star.utils import find_directory_sum_paths, normalize_logits\n",
    "\n",
    "import numpy as np\n",
    "import pandas as pd\n",
    "import torch\n",
    "from transformers import AutoModel, AutoConfig, AutoModelForMaskedLM\n",
    "from huggingface_hub import hf_hub_download, snapshot_download\n",
    "import matplotlib.pyplot as plt\n",
    "import os\n",
    "import seaborn as sns"
   ]
  },
  {
   "cell_type": "code",
   "execution_count": 2,
   "metadata": {},
   "outputs": [],
   "source": [
    "WORKING_DIR = '/accounts/grad/czye/GPN/gpn/examples/star/tmp/'\n",
    "\n",
    "os.makedirs(WORKING_DIR, exist_ok=True)"
   ]
  },
  {
   "cell_type": "markdown",
   "metadata": {},
   "source": [
    "# Download the model"
   ]
  },
  {
   "cell_type": "markdown",
   "metadata": {},
   "source": [
    "Pick one model from the following\n",
    "\n",
    "Here we use the vertebrate alignment model as an example"
   ]
  },
  {
   "cell_type": "markdown",
   "metadata": {},
   "source": [
    "## GPN-Star for hg38 with 100 vertebrate alignment"
   ]
  },
  {
   "cell_type": "code",
   "execution_count": 3,
   "metadata": {},
   "outputs": [
    {
     "name": "stderr",
     "output_type": "stream",
     "text": [
      "Fetching 9 files: 100%|██████████| 9/9 [00:00<00:00, 1464.49it/s]\n"
     ]
    }
   ],
   "source": [
    "snapshot_download(repo_id=\"songlab/gpn-star-hg38-v100-200m\", local_dir=WORKING_DIR+\"gpn-star-hg38-v100-200m\")\n",
    "model_path = WORKING_DIR+\"gpn-star-hg38-v100-200m\""
   ]
  },
  {
   "cell_type": "markdown",
   "metadata": {},
   "source": [
    "## GPN-Star for hg38 with 447 mammal alignment"
   ]
  },
  {
   "cell_type": "code",
   "execution_count": 4,
   "metadata": {},
   "outputs": [],
   "source": [
    "# snapshot_download(repo_id=\"songlab/gpn-star-hg38-m447-200m\", local_dir=WORKING_DIR+\"gpn-star-hg38-m447-200m\")\n",
    "# model_path = WORKING_DIR+\"gpn-star-hg38-m447-200m\""
   ]
  },
  {
   "cell_type": "markdown",
   "metadata": {},
   "source": [
    "## GPN-Star for hg38 with 243 primate alignment"
   ]
  },
  {
   "cell_type": "code",
   "execution_count": 5,
   "metadata": {},
   "outputs": [],
   "source": [
    "# snapshot_download(repo_id=\"songlab/gpn-star-hg38-p243-200m\", local_dir=WORKING_DIR+\"gpn-star-hg38-p243-200m\")\n",
    "# model_path = WORKING_DIR+\"gpn-star-hg38-p243-200m\""
   ]
  },
  {
   "cell_type": "markdown",
   "metadata": {},
   "source": [
    "# Download corresponding alignment data"
   ]
  },
  {
   "cell_type": "markdown",
   "metadata": {},
   "source": [
    "## multiz100way (100 vertebrates)"
   ]
  },
  {
   "cell_type": "markdown",
   "metadata": {},
   "source": [
    "download and decompress"
   ]
  },
  {
   "cell_type": "code",
   "execution_count": null,
   "metadata": {},
   "outputs": [],
   "source": [
    "############################################################\n",
    "# takes a few hours, can run the commands in terminal\n",
    "############################################################\n",
    "hf_hub_download(repo_id=\"songlab/multiz100way-pigz\", \n",
    "                filename=\"99.zarr.tar.gz\", \n",
    "                local_dir=WORKING_DIR+\"multiz100way\", \n",
    "                repo_type=\"dataset\") # ~42GB\n",
    "# alternatively, download in CLI\n",
    "# os.system(f\"hf download songlab/multiz100way-pigz --local-dir {WORKING_DIR}multiz100way --repo-type dataset\")\n",
    "\n",
    "# decompress\n",
    "os.system(f\"unpigz < {WORKING_DIR}multiz100way/99.zarr.tar.gz | tar -x\")\n",
    "############################################################\n",
    "\n",
    "wga_paths = {100: WORKING_DIR+\"multiz100way/99.zarr\"}"
   ]
  },
  {
   "cell_type": "markdown",
   "metadata": {},
   "source": [
    "## cactus447way (447 mammals)"
   ]
  },
  {
   "cell_type": "markdown",
   "metadata": {},
   "source": [
    "download and decompress\n",
    "\n",
    "*Note*: this alignment is divided into two parts: 243 primates and 204 non-primates\n",
    "\n",
    "need to download both parts and provide both paths"
   ]
  },
  {
   "cell_type": "code",
   "execution_count": 7,
   "metadata": {},
   "outputs": [],
   "source": [
    "# hf_hub_download(repo_id=\"songlab/hg38_cactus447way\", \n",
    "#                 filename=\"243.tar.gz\", \n",
    "#                 local_dir=WORKING_DIR+\"cactus447way\",\n",
    "#                 repo_type=\"dataset\") # ~40GB\n",
    "# os.system(f\"unpigz < {WORKING_DIR}cactus447way/243.tar.gz | tar -x\")\n",
    "\n",
    "# hf_hub_download(repo_id=\"songlab/hg38_cactus447way\", \n",
    "#                 filename=\"204.tar.gz\", \n",
    "#                 local_dir=WORKING_DIR+\"cactus447way\",\n",
    "#                 repo_type=\"dataset\") # ~66GB\n",
    "# os.system(f\"unpigz < {WORKING_DIR}cactus447way/204.tar.gz | tar -x\")\n",
    "\n",
    "# wga_paths = {243: WORKING_DIR+\"cactus447way/243/all.zarr\", \n",
    "#              204: WORKING_DIR+\"cactus447way/204/all.zarr\"}"
   ]
  },
  {
   "cell_type": "markdown",
   "metadata": {},
   "source": [
    "## cactus447way (243 primates)"
   ]
  },
  {
   "cell_type": "markdown",
   "metadata": {},
   "source": [
    "download and decompress\n",
    "\n",
    "the primate model uses the 243-primate part of the cactus447way alignment"
   ]
  },
  {
   "cell_type": "code",
   "execution_count": 8,
   "metadata": {},
   "outputs": [],
   "source": [
    "# hf_hub_download(repo_id=\"songlab/hg38_cactus447way\", \n",
    "#                 filename=\"243.tar.gz\", \n",
    "#                 local_dir=WORKING_DIR+\"cactus447way\",\n",
    "#                 repo_type=\"dataset\") # ~40GB\n",
    "# os.system(f\"unpigz < {WORKING_DIR}cactus447way/243.tar.gz | tar -x\")\n",
    "\n",
    "# wga_paths = {243: WORKING_DIR+\"cactus447way/243/all.zarr\"}"
   ]
  },
  {
   "attachments": {},
   "cell_type": "markdown",
   "metadata": {},
   "source": [
    "# Load input data"
   ]
  },
  {
   "attachments": {},
   "cell_type": "markdown",
   "metadata": {},
   "source": [
    "Example region: chr6:31575665-31575793\n",
    "\n",
    "[UCSC Genome Browser view](https://genome.ucsc.edu/cgi-bin/hgTracks?db=hg38&lastVirtModeType=default&lastVirtModeExtraState=&virtModeType=default&virtMode=0&nonVirtPosition=&position=chr6%3A31575665%2D31575793&hgsid=1726885238_vIMnX2NGEluaKCXVZjeTkj97aydM) "
   ]
  },
  {
   "cell_type": "code",
   "execution_count": 5,
   "metadata": {},
   "outputs": [
    {
     "name": "stdout",
     "output_type": "stream",
     "text": [
      "Loading MSA...\n",
      "Loading MSA... Done\n"
     ]
    }
   ],
   "source": [
    "genome_msa_list = [GenomeMSA(path, n_species=n_species, in_memory=False) for n_species, path in wga_paths.items()]"
   ]
  },
  {
   "cell_type": "code",
   "execution_count": null,
   "metadata": {},
   "outputs": [],
   "source": [
    "##### In standard VEP, use both the forward and reverse strand #####\n",
    "\n",
    "# msa_fwd, msa_rev = zip(*[\n",
    "#     genome_msa.get_msa_batch_fwd_rev(chrom, start, end, tokenize=True)\n",
    "#     for genome_msa in self.genome_msa_list\n",
    "# ])\n",
    "# msa_fwd = np.concatenate(msa_fwd, axis=-1)\n",
    "# msa_rev = np.concatenate(msa_rev, axis=-1)"
   ]
  },
  {
   "cell_type": "code",
   "execution_count": 6,
   "metadata": {},
   "outputs": [
    {
     "name": "stdout",
     "output_type": "stream",
     "text": [
      "(128, 100)\n"
     ]
    },
    {
     "data": {
      "text/plain": [
       "array([[b'A', b'A', b'A', ..., b'-', b'-', b'-'],\n",
       "       [b'C', b'C', b'C', ..., b'-', b'-', b'-'],\n",
       "       [b'A', b'A', b'A', ..., b'-', b'-', b'-'],\n",
       "       ...,\n",
       "       [b'T', b'T', b'T', ..., b'-', b'-', b'-'],\n",
       "       [b'C', b'C', b'C', ..., b'-', b'-', b'-'],\n",
       "       [b'C', b'C', b'C', ..., b'-', b'-', b'-']],\n",
       "      shape=(128, 100), dtype='|S1')"
      ]
     },
     "execution_count": 6,
     "metadata": {},
     "output_type": "execute_result"
    }
   ],
   "source": [
    "# Here we use a single strand just for demonstration\n",
    "raw_msa = [genome_msa.get_msa(\"6\", 31575665, 31575793, strand=\"+\", tokenize=False) for genome_msa in genome_msa_list]\n",
    "raw_msa = np.concatenate(raw_msa, axis=-1)\n",
    "print(raw_msa.shape)\n",
    "raw_msa"
   ]
  },
  {
   "cell_type": "code",
   "execution_count": 7,
   "metadata": {},
   "outputs": [
    {
     "name": "stdout",
     "output_type": "stream",
     "text": [
      "(128, 100)\n"
     ]
    },
    {
     "data": {
      "text/plain": [
       "array([[1, 1, 1, ..., 0, 0, 0],\n",
       "       [2, 2, 2, ..., 0, 0, 0],\n",
       "       [1, 1, 1, ..., 0, 0, 0],\n",
       "       ...,\n",
       "       [4, 4, 4, ..., 0, 0, 0],\n",
       "       [2, 2, 2, ..., 0, 0, 0],\n",
       "       [2, 2, 2, ..., 0, 0, 0]], shape=(128, 100), dtype=uint8)"
      ]
     },
     "execution_count": 7,
     "metadata": {},
     "output_type": "execute_result"
    }
   ],
   "source": [
    "msa = [genome_msa.get_msa(\"6\", 31575665, 31575793, strand=\"+\", tokenize=True) for genome_msa in genome_msa_list]\n",
    "msa = np.concatenate(msa, axis=-1)\n",
    "print(msa.shape)\n",
    "msa"
   ]
  },
  {
   "cell_type": "code",
   "execution_count": 8,
   "metadata": {},
   "outputs": [
    {
     "data": {
      "text/plain": [
       "tensor([[[1, 1, 1,  ..., 0, 0, 0],\n",
       "         [2, 2, 2,  ..., 0, 0, 0],\n",
       "         [1, 1, 1,  ..., 0, 0, 0],\n",
       "         ...,\n",
       "         [4, 4, 4,  ..., 0, 0, 0],\n",
       "         [2, 2, 2,  ..., 0, 0, 0],\n",
       "         [2, 2, 2,  ..., 0, 0, 0]]])"
      ]
     },
     "execution_count": 8,
     "metadata": {},
     "output_type": "execute_result"
    }
   ],
   "source": [
    "msa = torch.tensor(np.expand_dims(msa, 0).astype(np.int64))\n",
    "msa"
   ]
  },
  {
   "cell_type": "code",
   "execution_count": 9,
   "metadata": {},
   "outputs": [
    {
     "data": {
      "text/plain": [
       "(torch.Size([1, 128, 1]), torch.Size([1, 128, 100]))"
      ]
     },
     "execution_count": 9,
     "metadata": {},
     "output_type": "execute_result"
    }
   ],
   "source": [
    "# define human as the target species and use all species as source species\n",
    "input_ids, source_ids = msa[:, :, :1], msa\n",
    "input_ids.shape, source_ids.shape"
   ]
  },
  {
   "attachments": {},
   "cell_type": "markdown",
   "metadata": {},
   "source": [
    "# Get logits (log probabilities)"
   ]
  },
  {
   "cell_type": "code",
   "execution_count": 10,
   "metadata": {},
   "outputs": [],
   "source": [
    "config = AutoConfig.from_pretrained(model_path+\"/config.json\")"
   ]
  },
  {
   "cell_type": "code",
   "execution_count": 11,
   "metadata": {},
   "outputs": [],
   "source": [
    "config.phylo_dist_path = model_path+'/phylo_dist/'"
   ]
  },
  {
   "cell_type": "code",
   "execution_count": 12,
   "metadata": {},
   "outputs": [
    {
     "data": {
      "text/plain": [
       "GPNStarForMaskedLM(\n",
       "  (model): GPNStarModel(\n",
       "    (target_embedding): GPNStarEmbedding(\n",
       "      (input_embed): Embedding(6, 1024)\n",
       "    )\n",
       "    (source_embedding): GPNStarSourceModule(\n",
       "      (attn_pool): GPNStarAttentionPool(\n",
       "        (attention_weights): Embedding(6, 8)\n",
       "        (value): Embedding(6, 512)\n",
       "        (dropout): Dropout(p=0.1, inplace=False)\n",
       "        (ffn): Linear(in_features=512, out_features=1024, bias=True)\n",
       "      )\n",
       "      (embed): Embedding(6, 1024)\n",
       "      (embed_positions): FIRETimeBias(\n",
       "        (mlp): Sequential(\n",
       "          (0): Linear(in_features=1, out_features=32, bias=False)\n",
       "          (1): SiLU()\n",
       "          (2): Linear(in_features=32, out_features=1, bias=False)\n",
       "        )\n",
       "      )\n",
       "    )\n",
       "    (encoder): GPNStarEncoder(\n",
       "      (embed_positions): RoFormerSinusoidalPositionalEmbedding(1536, 64)\n",
       "      (layer): ModuleList(\n",
       "        (0-15): 16 x GPNStarLayer(\n",
       "          (attention): GPNStarAttention(\n",
       "            (row_attention): GPNStarRowAttention(\n",
       "              (self): GPNStarRowSelfAttention(\n",
       "                (query): Linear(in_features=1024, out_features=512, bias=True)\n",
       "                (key): Linear(in_features=1024, out_features=512, bias=True)\n",
       "                (value): Linear(in_features=1024, out_features=512, bias=True)\n",
       "                (dropout): Dropout(p=0.1, inplace=False)\n",
       "              )\n",
       "              (out): GPNStarRowSelfOutput(\n",
       "                (dense): Linear(in_features=512, out_features=1024, bias=True)\n",
       "                (LayerNorm): LayerNorm((1024,), eps=1e-12, elementwise_affine=True)\n",
       "                (dropout): Dropout(p=0.1, inplace=False)\n",
       "              )\n",
       "            )\n",
       "            (col_attention): GPNStarColAttention(\n",
       "              (self): GPNStarColCrossAttention(\n",
       "                (query): Linear(in_features=1024, out_features=512, bias=True)\n",
       "                (key): Linear(in_features=1024, out_features=512, bias=True)\n",
       "                (value): Linear(in_features=1024, out_features=512, bias=True)\n",
       "              )\n",
       "              (out): GPNStarColCrossOutput(\n",
       "                (dense): Linear(in_features=512, out_features=1024, bias=True)\n",
       "                (LayerNorm): LayerNorm((1024,), eps=1e-12, elementwise_affine=True)\n",
       "                (dropout): Dropout(p=0.1, inplace=False)\n",
       "              )\n",
       "              (embed_positions): FIRETimeBias(\n",
       "                (mlp): Sequential(\n",
       "                  (0): Linear(in_features=1, out_features=32, bias=False)\n",
       "                  (1): SiLU()\n",
       "                  (2): Linear(in_features=32, out_features=1, bias=False)\n",
       "                )\n",
       "              )\n",
       "            )\n",
       "          )\n",
       "          (intermediate): RoFormerIntermediate(\n",
       "            (dense): Linear(in_features=1024, out_features=4096, bias=True)\n",
       "            (intermediate_act_fn): GELUActivation()\n",
       "          )\n",
       "          (output): RoFormerOutput(\n",
       "            (dense): Linear(in_features=4096, out_features=1024, bias=True)\n",
       "            (LayerNorm): LayerNorm((1024,), eps=1e-12, elementwise_affine=True)\n",
       "            (dropout): Dropout(p=0.1, inplace=False)\n",
       "          )\n",
       "        )\n",
       "      )\n",
       "    )\n",
       "  )\n",
       "  (cls): RoFormerOnlyMLMHead(\n",
       "    (predictions): RoFormerLMPredictionHead(\n",
       "      (transform): RoFormerPredictionHeadTransform(\n",
       "        (dense): Linear(in_features=1024, out_features=768, bias=True)\n",
       "        (transform_act_fn): GELUActivation()\n",
       "        (LayerNorm): LayerNorm((768,), eps=1e-12, elementwise_affine=True)\n",
       "      )\n",
       "      (decoder): Linear(in_features=768, out_features=6, bias=True)\n",
       "    )\n",
       "  )\n",
       ")"
      ]
     },
     "execution_count": 12,
     "metadata": {},
     "output_type": "execute_result"
    }
   ],
   "source": [
    "model_for_mlm = AutoModelForMaskedLM.from_pretrained(model_path, config=config)\n",
    "model_for_mlm.eval()"
   ]
  },
  {
   "cell_type": "code",
   "execution_count": 13,
   "metadata": {},
   "outputs": [
    {
     "data": {
      "text/plain": [
       "array([b'A', b'T', b'G'], dtype='|S1')"
      ]
     },
     "execution_count": 13,
     "metadata": {},
     "output_type": "execute_result"
    }
   ],
   "source": [
    "raw_msa[76:79, 0]  # Start codon"
   ]
  },
  {
   "cell_type": "code",
   "execution_count": 14,
   "metadata": {},
   "outputs": [],
   "source": [
    "tokenizer = Tokenizer()\n",
    "pos = 76  # Let's mask the A and check the model predictions\n",
    "input_ids[0, pos] = tokenizer.mask_token_id()"
   ]
  },
  {
   "cell_type": "code",
   "execution_count": 15,
   "metadata": {},
   "outputs": [
    {
     "data": {
      "text/plain": [
       "torch.Size([1, 128, 1])"
      ]
     },
     "execution_count": 15,
     "metadata": {},
     "output_type": "execute_result"
    }
   ],
   "source": [
    "input_ids.shape"
   ]
  },
  {
   "cell_type": "code",
   "execution_count": 16,
   "metadata": {},
   "outputs": [
    {
     "name": "stderr",
     "output_type": "stream",
     "text": [
      "/accounts/grad/czye/conda/envs/gpn_env/envs/gpn_star/lib/python3.10/contextlib.py:103: FutureWarning: `torch.backends.cuda.sdp_kernel()` is deprecated. In the future, this context manager will be removed. Please see `torch.nn.attention.sdpa_kernel()` for the new context manager, with updated signature.\n",
      "  self.gen = func(*args, **kwds)\n"
     ]
    },
    {
     "data": {
      "text/plain": [
       "torch.Size([1, 128, 1, 6])"
      ]
     },
     "execution_count": 16,
     "metadata": {},
     "output_type": "execute_result"
    }
   ],
   "source": [
    "with torch.no_grad():\n",
    "    all_logits = model_for_mlm.forward(input_ids=input_ids, \n",
    "                                       source_ids=source_ids, \n",
    "                                       target_species=np.array([[0]], dtype=int)).logits\n",
    "all_logits.shape # (batch_size, seq_len, num_target, vocab_size)"
   ]
  },
  {
   "cell_type": "code",
   "execution_count": 19,
   "metadata": {},
   "outputs": [
    {
     "data": {
      "text/plain": [
       "tensor([ 7.7062, -1.9220, -0.6912, -2.6507])"
      ]
     },
     "execution_count": 19,
     "metadata": {},
     "output_type": "execute_result"
    }
   ],
   "source": [
    "nucleotides = list('ACGT')\n",
    "logits = all_logits.squeeze()[pos, [tokenizer.vocab.index(nc) for nc in nucleotides]]\n",
    "logits"
   ]
  },
  {
   "cell_type": "code",
   "execution_count": 20,
   "metadata": {},
   "outputs": [
    {
     "data": {
      "text/plain": [
       "array([9.9967706e-01, 6.5820524e-05, 2.2536943e-04, 3.1760745e-05],\n",
       "      dtype=float32)"
      ]
     },
     "execution_count": 20,
     "metadata": {},
     "output_type": "execute_result"
    }
   ],
   "source": [
    "probs = torch.nn.functional.softmax(logits, dim=0).numpy()\n",
    "probs"
   ]
  },
  {
   "cell_type": "code",
   "execution_count": 21,
   "metadata": {},
   "outputs": [
    {
     "data": {
      "text/plain": [
       "<Axes: xlabel='nucleotide', ylabel='probability'>"
      ]
     },
     "execution_count": 21,
     "metadata": {},
     "output_type": "execute_result"
    },
    {
     "data": {
      "image/png": "[encoded data removed]",
      "text/plain": [
       "<Figure size 640x480 with 1 Axes>"
      ]
     },
     "metadata": {},
     "output_type": "display_data"
    }
   ],
   "source": [
    "probs_df = pd.DataFrame(dict(nucleotide=nucleotides, probability=probs))\n",
    "sns.barplot(data=probs_df, x=\"nucleotide\", y=\"probability\")"
   ]
  },
  {
   "cell_type": "markdown",
   "metadata": {},
   "source": [
    "# Get log-likelihood ratio (LLR)"
   ]
  },
  {
   "cell_type": "code",
   "execution_count": 29,
   "metadata": {},
   "outputs": [
    {
     "data": {
      "text/plain": [
       "'A'"
      ]
     },
     "execution_count": 29,
     "metadata": {},
     "output_type": "execute_result"
    }
   ],
   "source": [
    "# get reference allele\n",
    "ref = raw_msa[pos, 0].decode()\n",
    "ref"
   ]
  },
  {
   "cell_type": "code",
   "execution_count": 56,
   "metadata": {},
   "outputs": [
    {
     "name": "stdout",
     "output_type": "stream",
     "text": [
      "  variant alt_allele        LLR\n",
      "0     A>C          C  -9.628256\n",
      "1     A>G          G  -8.397447\n",
      "2     A>T          T -10.356957\n"
     ]
    }
   ],
   "source": [
    "# get the LLR for the three alternative alleles\n",
    "alt_alleles = [nc for nc in nucleotides if nc != ref]\n",
    "ref_logit = logits[nucleotides.index(ref)]\n",
    "alt_logits = [logits[nucleotides.index(alt)] for alt in alt_alleles]\n",
    "variant = [f\"{ref}>{alt}\" for alt in alt_alleles]\n",
    "llrs = [alt_logit.item() - ref_logit.item() for alt_logit in alt_logits]\n",
    "llr_df = pd.DataFrame(dict(variant=variant, alt_allele=alt_alleles, LLR=llrs))\n",
    "print(llr_df)\n"
   ]
  },
  {
   "cell_type": "code",
   "execution_count": 50,
   "metadata": {},
   "outputs": [
    {
     "data": {
      "text/plain": [
       "<Axes: xlabel='variant', ylabel='LLR'>"
      ]
     },
     "execution_count": 50,
     "metadata": {},
     "output_type": "execute_result"
    },
    {
     "data": {
      "image/png": "[encoded data removed]",
      "text/plain": [
       "<Figure size 640x480 with 1 Axes>"
      ]
     },
     "metadata": {},
     "output_type": "display_data"
    }
   ],
   "source": [
    "sns.barplot(data=llr_df, x=\"variant\", y=\"LLR\")"
   ]
  },
  {
   "cell_type": "markdown",
   "metadata": {},
   "source": [
    "# Mutation rate calibration"
   ]
  },
  {
   "cell_type": "markdown",
   "metadata": {},
   "source": [
    "calibrate the LLRs with precomputed neutral scores"
   ]
  },
  {
   "cell_type": "code",
   "execution_count": 43,
   "metadata": {},
   "outputs": [
    {
     "name": "stdout",
     "output_type": "stream",
     "text": [
      "CCATG\n"
     ]
    }
   ],
   "source": [
    "# get the central pentanucleotide context\n",
    "pentanuc = ''.join(raw_msa[pos-2:pos+3, 0].astype(str))\n",
    "print(pentanuc)"
   ]
  },
  {
   "cell_type": "code",
   "execution_count": 46,
   "metadata": {},
   "outputs": [
    {
     "data": {
      "text/html": [
       "<div>\n",
       "<style scoped>\n",
       "    .dataframe tbody tr th:only-of-type {\n",
       "        vertical-align: middle;\n",
       "    }\n",
       "\n",
       "    .dataframe tbody tr th {\n",
       "        vertical-align: top;\n",
       "    }\n",
       "\n",
       "    .dataframe thead th {\n",
       "        text-align: right;\n",
       "    }\n",
       "</style>\n",
       "<table border=\"1\" class=\"dataframe\">\n",
       "  <thead>\n",
       "    <tr style=\"text-align: right;\">\n",
       "      <th></th>\n",
       "      <th>pentanuc_mut</th>\n",
       "      <th>llr_neutral_mean</th>\n",
       "    </tr>\n",
       "  </thead>\n",
       "  <tbody>\n",
       "    <tr>\n",
       "      <th>0</th>\n",
       "      <td>AAAAA_C</td>\n",
       "      <td>-1.372231</td>\n",
       "    </tr>\n",
       "    <tr>\n",
       "      <th>1</th>\n",
       "      <td>AAAAA_G</td>\n",
       "      <td>-1.147643</td>\n",
       "    </tr>\n",
       "    <tr>\n",
       "      <th>2</th>\n",
       "      <td>AAAAA_T</td>\n",
       "      <td>-1.374090</td>\n",
       "    </tr>\n",
       "    <tr>\n",
       "      <th>3</th>\n",
       "      <td>AAAAC_C</td>\n",
       "      <td>-1.359494</td>\n",
       "    </tr>\n",
       "    <tr>\n",
       "      <th>4</th>\n",
       "      <td>AAAAC_G</td>\n",
       "      <td>-1.237000</td>\n",
       "    </tr>\n",
       "    <tr>\n",
       "      <th>...</th>\n",
       "      <td>...</td>\n",
       "      <td>...</td>\n",
       "    </tr>\n",
       "    <tr>\n",
       "      <th>3067</th>\n",
       "      <td>TTTTG_C</td>\n",
       "      <td>-1.065968</td>\n",
       "    </tr>\n",
       "    <tr>\n",
       "      <th>3068</th>\n",
       "      <td>TTTTG_G</td>\n",
       "      <td>-1.301936</td>\n",
       "    </tr>\n",
       "    <tr>\n",
       "      <th>3069</th>\n",
       "      <td>TTTTT_A</td>\n",
       "      <td>-1.371902</td>\n",
       "    </tr>\n",
       "    <tr>\n",
       "      <th>3070</th>\n",
       "      <td>TTTTT_C</td>\n",
       "      <td>-1.184162</td>\n",
       "    </tr>\n",
       "    <tr>\n",
       "      <th>3071</th>\n",
       "      <td>TTTTT_G</td>\n",
       "      <td>-1.371532</td>\n",
       "    </tr>\n",
       "  </tbody>\n",
       "</table>\n",
       "<p>3072 rows × 2 columns</p>\n",
       "</div>"
      ],
      "text/plain": [
       "     pentanuc_mut  llr_neutral_mean\n",
       "0         AAAAA_C         -1.372231\n",
       "1         AAAAA_G         -1.147643\n",
       "2         AAAAA_T         -1.374090\n",
       "3         AAAAC_C         -1.359494\n",
       "4         AAAAC_G         -1.237000\n",
       "...           ...               ...\n",
       "3067      TTTTG_C         -1.065968\n",
       "3068      TTTTG_G         -1.301936\n",
       "3069      TTTTT_A         -1.371902\n",
       "3070      TTTTT_C         -1.184162\n",
       "3071      TTTTT_G         -1.371532\n",
       "\n",
       "[3072 rows x 2 columns]"
      ]
     },
     "execution_count": 46,
     "metadata": {},
     "output_type": "execute_result"
    }
   ],
   "source": [
    "# get the corresponding neutral scores\n",
    "calibration_table = pd.read_parquet(model_path+\"/calibration_table/llr.parquet\")\n",
    "calibration_table"
   ]
  },
  {
   "cell_type": "code",
   "execution_count": 57,
   "metadata": {},
   "outputs": [
    {
     "data": {
      "text/html": [
       "<div>\n",
       "<style scoped>\n",
       "    .dataframe tbody tr th:only-of-type {\n",
       "        vertical-align: middle;\n",
       "    }\n",
       "\n",
       "    .dataframe tbody tr th {\n",
       "        vertical-align: top;\n",
       "    }\n",
       "\n",
       "    .dataframe thead th {\n",
       "        text-align: right;\n",
       "    }\n",
       "</style>\n",
       "<table border=\"1\" class=\"dataframe\">\n",
       "  <thead>\n",
       "    <tr style=\"text-align: right;\">\n",
       "      <th></th>\n",
       "      <th>variant</th>\n",
       "      <th>alt_allele</th>\n",
       "      <th>LLR</th>\n",
       "      <th>pentanuc</th>\n",
       "      <th>pentanuc_mut</th>\n",
       "      <th>llr_neutral_mean</th>\n",
       "      <th>LLR_calibrated</th>\n",
       "    </tr>\n",
       "  </thead>\n",
       "  <tbody>\n",
       "    <tr>\n",
       "      <th>0</th>\n",
       "      <td>A&gt;C</td>\n",
       "      <td>C</td>\n",
       "      <td>-9.628256</td>\n",
       "      <td>CCATG</td>\n",
       "      <td>CCATG_C</td>\n",
       "      <td>-1.431537</td>\n",
       "      <td>-8.196719</td>\n",
       "    </tr>\n",
       "    <tr>\n",
       "      <th>1</th>\n",
       "      <td>A&gt;G</td>\n",
       "      <td>G</td>\n",
       "      <td>-8.397447</td>\n",
       "      <td>CCATG</td>\n",
       "      <td>CCATG_G</td>\n",
       "      <td>-1.295980</td>\n",
       "      <td>-7.101466</td>\n",
       "    </tr>\n",
       "    <tr>\n",
       "      <th>2</th>\n",
       "      <td>A&gt;T</td>\n",
       "      <td>T</td>\n",
       "      <td>-10.356957</td>\n",
       "      <td>CCATG</td>\n",
       "      <td>CCATG_T</td>\n",
       "      <td>-1.452028</td>\n",
       "      <td>-8.904929</td>\n",
       "    </tr>\n",
       "  </tbody>\n",
       "</table>\n",
       "</div>"
      ],
      "text/plain": [
       "  variant alt_allele        LLR pentanuc pentanuc_mut  llr_neutral_mean  \\\n",
       "0     A>C          C  -9.628256    CCATG      CCATG_C         -1.431537   \n",
       "1     A>G          G  -8.397447    CCATG      CCATG_G         -1.295980   \n",
       "2     A>T          T -10.356957    CCATG      CCATG_T         -1.452028   \n",
       "\n",
       "   LLR_calibrated  \n",
       "0       -8.196719  \n",
       "1       -7.101466  \n",
       "2       -8.904929  "
      ]
     },
     "execution_count": 57,
     "metadata": {},
     "output_type": "execute_result"
    }
   ],
   "source": [
    "# calibrate the LLRs\n",
    "llr_df['pentanuc'] = pentanuc\n",
    "llr_df['pentanuc_mut'] = llr_df['pentanuc'] + '_' + llr_df['alt_allele']\n",
    "llr_df = llr_df.merge(calibration_table, on='pentanuc_mut', how='left')\n",
    "llr_df['LLR_calibrated'] = llr_df['LLR'] - llr_df['llr_neutral_mean']\n",
    "llr_df"
   ]
  },
  {
   "cell_type": "code",
   "execution_count": 58,
   "metadata": {},
   "outputs": [
    {
     "data": {
      "text/plain": [
       "<Axes: xlabel='variant', ylabel='LLR_calibrated'>"
      ]
     },
     "execution_count": 58,
     "metadata": {},
     "output_type": "execute_result"
    },
    {
     "data": {
      "image/png": "[encoded data removed]",
      "text/plain": [
       "<Figure size 640x480 with 1 Axes>"
      ]
     },
     "metadata": {},
     "output_type": "display_data"
    }
   ],
   "source": [
    "sns.barplot(data=llr_df, x=\"variant\", y=\"LLR_calibrated\")"
   ]
  },
  {
   "cell_type": "code",
   "execution_count": null,
   "metadata": {},
   "outputs": [],
   "source": []
  }
 ],
 "metadata": {
  "kernelspec": {
   "display_name": "gpn_star",
   "language": "python",
   "name": "python3"
  },
  "language_info": {
   "codemirror_mode": {
    "name": "ipython",
    "version": 3
   },
   "file_extension": ".py",
   "mimetype": "text/x-python",
   "name": "python",
   "nbconvert_exporter": "python",
   "pygments_lexer": "ipython3",
   "version": "3.10.18"
  },
  "orig_nbformat": 4
 },
 "nbformat": 4,
 "nbformat_minor": 2
}
