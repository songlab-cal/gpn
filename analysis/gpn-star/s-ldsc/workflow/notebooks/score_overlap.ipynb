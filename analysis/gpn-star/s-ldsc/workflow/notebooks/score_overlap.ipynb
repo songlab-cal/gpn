{
 "cells": [
  {
   "cell_type": "code",
   "execution_count": 1,
   "id": "f234bfe8-b7d6-41b3-90a0-1a8afcd5120c",
   "metadata": {},
   "outputs": [],
   "source": [
    "from matplotlib_venn import venn3\n",
    "import matplotlib.pyplot as plt\n",
    "import os\n",
    "import polars as pl\n",
    "import yaml"
   ]
  },
  {
   "cell_type": "code",
   "execution_count": 2,
   "id": "5536100c-fa04-406e-a3b2-46ce75221a04",
   "metadata": {},
   "outputs": [],
   "source": [
    "PLOT_DIR = \"../../results/plots/score_overlap/\"\n",
    "os.makedirs(PLOT_DIR, exist_ok=True)\n",
    "\n",
    "with open('../../config/config.yaml', 'r') as f:\n",
    "    config = yaml.safe_load(f)"
   ]
  },
  {
   "cell_type": "code",
   "execution_count": 3,
   "id": "4f3cfa36-40d2-454b-bc04-9941e4c56ba7",
   "metadata": {},
   "outputs": [],
   "source": [
    "palette = {    \n",
    "    \"GPN-Star (V)\": '#2773BA',\n",
    "    \"GPN-Star (M)\": '#4F97DB',\n",
    "    \"GPN-Star (P)\": '#95BFE6',\n",
    "    \n",
    "    \"GPN-MSA\": \"#919191\",\n",
    "    \"CADD\": \"#E09D5A\",\n",
    "    \n",
    "    \"PhyloP (V)\": \"#9E66BA\",\n",
    "    \"PhastCons (V)\": \"#C4494B\",\n",
    "    \"PhyloP (M)\": \"#B684D9\",\n",
    "    \"PhastCons (M)\": \"#D96C70\",\n",
    "    \"PhyloP (P)\": \"#D4A6ED\",\n",
    "    \"PhastCons (P)\": \"#EDA8A6\",\n",
    "\n",
    "    \"Enformer\": \"#B58181\",\n",
    "\n",
    "    \"Ensemble\": \"black\",\n",
    "}"
   ]
  },
  {
   "cell_type": "code",
   "execution_count": 4,
   "id": "9ccb60bb-a94b-4d39-9ddb-50ef95e02c1e",
   "metadata": {},
   "outputs": [
    {
     "data": {
      "text/html": [
       "<div><style>\n",
       ".dataframe > thead > tr,\n",
       ".dataframe > tbody > tr {\n",
       "  text-align: right;\n",
       "  white-space: pre-wrap;\n",
       "}\n",
       "</style>\n",
       "<small>shape: (9_997_231, 2)</small><table border=\"1\" class=\"dataframe\"><thead><tr><th>consequence</th><th>common</th></tr><tr><td>str</td><td>bool</td></tr></thead><tbody><tr><td>&quot;pELS-flank&quot;</td><td>true</td></tr><tr><td>&quot;pELS-flank&quot;</td><td>true</td></tr><tr><td>&quot;intron_variant&quot;</td><td>true</td></tr><tr><td>&quot;intron_variant&quot;</td><td>true</td></tr><tr><td>&quot;intron_variant&quot;</td><td>true</td></tr><tr><td>&hellip;</td><td>&hellip;</td></tr><tr><td>&quot;non_coding_transcript_exon_var…</td><td>true</td></tr><tr><td>&quot;non_coding_transcript_exon_var…</td><td>false</td></tr><tr><td>&quot;intergenic_variant&quot;</td><td>false</td></tr><tr><td>&quot;intergenic_variant&quot;</td><td>false</td></tr><tr><td>&quot;intergenic_variant&quot;</td><td>false</td></tr></tbody></table></div>"
      ],
      "text/plain": [
       "shape: (9_997_231, 2)\n",
       "┌─────────────────────────────────┬────────┐\n",
       "│ consequence                     ┆ common │\n",
       "│ ---                             ┆ ---    │\n",
       "│ str                             ┆ bool   │\n",
       "╞═════════════════════════════════╪════════╡\n",
       "│ pELS-flank                      ┆ true   │\n",
       "│ pELS-flank                      ┆ true   │\n",
       "│ intron_variant                  ┆ true   │\n",
       "│ intron_variant                  ┆ true   │\n",
       "│ intron_variant                  ┆ true   │\n",
       "│ …                               ┆ …      │\n",
       "│ non_coding_transcript_exon_var… ┆ true   │\n",
       "│ non_coding_transcript_exon_var… ┆ false  │\n",
       "│ intergenic_variant              ┆ false  │\n",
       "│ intergenic_variant              ┆ false  │\n",
       "│ intergenic_variant              ┆ false  │\n",
       "└─────────────────────────────────┴────────┘"
      ]
     },
     "execution_count": 4,
     "metadata": {},
     "output_type": "execute_result"
    }
   ],
   "source": [
    "V = pl.read_parquet(\"../../results/variants/merged.annot_with_cre_v2.parquet\", columns=[\"consequence\"])\n",
    "MAF = pl.read_parquet(\"../../results/maf/merged.parquet\")\n",
    "assert len(V) == len(MAF)\n",
    "V = pl.concat([V, MAF], how=\"horizontal\").with_columns(common=pl.col(\"MAF\") > 5/100).drop(\"MAF\")\n",
    "V"
   ]
  },
  {
   "cell_type": "code",
   "execution_count": 6,
   "id": "75228958-3104-4f15-b993-962a70a87f97",
   "metadata": {},
   "outputs": [
    {
     "data": {
      "text/html": [
       "<div><style>\n",
       ".dataframe > thead > tr,\n",
       ".dataframe > tbody > tr {\n",
       "  text-align: right;\n",
       "  white-space: pre-wrap;\n",
       "}\n",
       "</style>\n",
       "<small>shape: (9_997_231, 5)</small><table border=\"1\" class=\"dataframe\"><thead><tr><th>consequence</th><th>common</th><th>GPN-Star (P)</th><th>GPN-Star (M)</th><th>GPN-Star (V)</th></tr><tr><td>str</td><td>bool</td><td>bool</td><td>bool</td><td>bool</td></tr></thead><tbody><tr><td>&quot;pELS-flank&quot;</td><td>true</td><td>false</td><td>false</td><td>false</td></tr><tr><td>&quot;pELS-flank&quot;</td><td>true</td><td>false</td><td>false</td><td>false</td></tr><tr><td>&quot;intron_variant&quot;</td><td>true</td><td>false</td><td>false</td><td>false</td></tr><tr><td>&quot;intron_variant&quot;</td><td>true</td><td>false</td><td>false</td><td>false</td></tr><tr><td>&quot;intron_variant&quot;</td><td>true</td><td>false</td><td>false</td><td>false</td></tr><tr><td>&hellip;</td><td>&hellip;</td><td>&hellip;</td><td>&hellip;</td><td>&hellip;</td></tr><tr><td>&quot;non_coding_transcript_exon_var…</td><td>true</td><td>false</td><td>false</td><td>false</td></tr><tr><td>&quot;non_coding_transcript_exon_var…</td><td>false</td><td>false</td><td>false</td><td>false</td></tr><tr><td>&quot;intergenic_variant&quot;</td><td>false</td><td>false</td><td>false</td><td>false</td></tr><tr><td>&quot;intergenic_variant&quot;</td><td>false</td><td>false</td><td>false</td><td>false</td></tr><tr><td>&quot;intergenic_variant&quot;</td><td>false</td><td>false</td><td>false</td><td>false</td></tr></tbody></table></div>"
      ],
      "text/plain": [
       "shape: (9_997_231, 5)\n",
       "┌─────────────────────────────────┬────────┬──────────────┬──────────────┬──────────────┐\n",
       "│ consequence                     ┆ common ┆ GPN-Star (P) ┆ GPN-Star (M) ┆ GPN-Star (V) │\n",
       "│ ---                             ┆ ---    ┆ ---          ┆ ---          ┆ ---          │\n",
       "│ str                             ┆ bool   ┆ bool         ┆ bool         ┆ bool         │\n",
       "╞═════════════════════════════════╪════════╪══════════════╪══════════════╪══════════════╡\n",
       "│ pELS-flank                      ┆ true   ┆ false        ┆ false        ┆ false        │\n",
       "│ pELS-flank                      ┆ true   ┆ false        ┆ false        ┆ false        │\n",
       "│ intron_variant                  ┆ true   ┆ false        ┆ false        ┆ false        │\n",
       "│ intron_variant                  ┆ true   ┆ false        ┆ false        ┆ false        │\n",
       "│ intron_variant                  ┆ true   ┆ false        ┆ false        ┆ false        │\n",
       "│ …                               ┆ …      ┆ …            ┆ …            ┆ …            │\n",
       "│ non_coding_transcript_exon_var… ┆ true   ┆ false        ┆ false        ┆ false        │\n",
       "│ non_coding_transcript_exon_var… ┆ false  ┆ false        ┆ false        ┆ false        │\n",
       "│ intergenic_variant              ┆ false  ┆ false        ┆ false        ┆ false        │\n",
       "│ intergenic_variant              ┆ false  ┆ false        ┆ false        ┆ false        │\n",
       "│ intergenic_variant              ┆ false  ┆ false        ┆ false        ┆ false        │\n",
       "└─────────────────────────────────┴────────┴──────────────┴──────────────┴──────────────┘"
      ]
     },
     "execution_count": 6,
     "metadata": {},
     "output_type": "execute_result"
    }
   ],
   "source": [
    "models = {\n",
    "    \"GPN-Star (P)\": config[\"gpn_star_p\"],\n",
    "    \"GPN-Star (M)\": config[\"gpn_star_m\"],\n",
    "    \"GPN-Star (V)\": config[\"gpn_star_v\"],\n",
    "}\n",
    "approach = \"quantile\"\n",
    "q = 0.001\n",
    "\n",
    "for name, model in models.items():\n",
    "    V = V.with_columns(\n",
    "        pl.read_parquet(\n",
    "            f\"../../results/variant_scores/{approach}/{model}/{q}.parquet\",\n",
    "        )[\"score\"].eq(1).alias(name)\n",
    "    )\n",
    "V"
   ]
  },
  {
   "cell_type": "code",
   "execution_count": 7,
   "id": "4c390110-0765-41bc-a843-e4e6bce3b84d",
   "metadata": {},
   "outputs": [
    {
     "data": {
      "text/plain": [
       "{'GPN-Star (P)': 16108, 'GPN-Star (M)': 16499, 'GPN-Star (V)': 15401}"
      ]
     },
     "execution_count": 7,
     "metadata": {},
     "output_type": "execute_result"
    }
   ],
   "source": [
    "V2 = {model: set(V[model].arg_true()) for model in models}\n",
    "{k: len(v) for k, v in V2.items()}"
   ]
  },
  {
   "cell_type": "code",
   "execution_count": 8,
   "id": "147b065e-b78f-4d26-af01-a3d611aa7750",
   "metadata": {},
   "outputs": [],
   "source": [
    "def plot(V, save_path=None):\n",
    "    print({k: len(v) for k, v in V.items()})\n",
    "    plt.figure(figsize=(2, 2))\n",
    "    subsets = V.values()\n",
    "    set_labels = V.keys()\n",
    "    set_colors = tuple(palette[label] for label in set_labels)\n",
    "    venn = venn3(subsets, set_labels=set_labels, set_colors=set_colors)\n",
    "    if save_path is not None:\n",
    "        for ext in [\".svg\", \".pdf\"]:\n",
    "            plt.savefig(PLOT_DIR + save_path + ext, bbox_inches=\"tight\")"
   ]
  },
  {
   "cell_type": "code",
   "execution_count": 9,
   "id": "2553779f-83c9-485f-ba2e-818ae30db30b",
   "metadata": {},
   "outputs": [
    {
     "name": "stdout",
     "output_type": "stream",
     "text": [
      "{'GPN-Star (P)': 16108, 'GPN-Star (M)': 16499, 'GPN-Star (V)': 15401}\n"
     ]
    },
    {
     "data": {
      "image/png": "[encoded data removed]",
      "text/plain": [
       "<Figure size 200x200 with 1 Axes>"
      ]
     },
     "metadata": {},
     "output_type": "display_data"
    }
   ],
   "source": [
    "plot(V2, \"all\")"
   ]
  },
  {
   "cell_type": "code",
   "execution_count": 10,
   "id": "3f50cbe8-3c8f-4d41-bf24-e3fc7d4f5336",
   "metadata": {},
   "outputs": [
    {
     "name": "stdout",
     "output_type": "stream",
     "text": [
      "{'GPN-Star (P)': 5961, 'GPN-Star (M)': 5961, 'GPN-Star (V)': 5961}\n"
     ]
    },
    {
     "data": {
      "image/png": "[encoded data removed]",
      "text/plain": [
       "<Figure size 200x200 with 1 Axes>"
      ]
     },
     "metadata": {},
     "output_type": "display_data"
    }
   ],
   "source": [
    "plot(\n",
    "    {\n",
    "        model: set((V[model] & V[\"common\"]).arg_true())\n",
    "        for model in models\n",
    "    },\n",
    "    \"common\",\n",
    ")"
   ]
  },
  {
   "cell_type": "code",
   "execution_count": null,
   "id": "0ede445b-620b-40ad-bf4c-c35411d0de2a",
   "metadata": {},
   "outputs": [],
   "source": []
  }
 ],
 "metadata": {
  "kernelspec": {
   "display_name": "gpn",
   "language": "python",
   "name": "gpn"
  },
  "language_info": {
   "codemirror_mode": {
    "name": "ipython",
    "version": 3
   },
   "file_extension": ".py",
   "mimetype": "text/x-python",
   "name": "python",
   "nbconvert_exporter": "python",
   "pygments_lexer": "ipython3",
   "version": "3.10.8"
  }
 },
 "nbformat": 4,
 "nbformat_minor": 5
}
