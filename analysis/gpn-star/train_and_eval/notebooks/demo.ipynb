{
 "cells": [
  {
   "cell_type": "code",
   "execution_count": null,
   "metadata": {},
   "outputs": [],
   "source": [
    "#!pip install --quiet git+https://github.com/songlab-cal/gpn"
   ]
  },
  {
   "cell_type": "code",
   "execution_count": 6,
   "metadata": {},
   "outputs": [],
   "source": [
    "from gpn.star.data import GenomeMSA, Tokenizer\n",
    "import gpn.star.model\n",
    "from gpn.star.utils import find_directory_sum_paths\n",
    "\n",
    "import numpy as np\n",
    "import pandas as pd\n",
    "import torch\n",
    "from transformers import AutoModel, AutoConfig, AutoModelForMaskedLM\n",
    "import matplotlib.pyplot as plt\n",
    "import seaborn as sns"
   ]
  },
  {
   "cell_type": "code",
   "execution_count": 3,
   "metadata": {},
   "outputs": [],
   "source": [
    "WORKING_DIR = '/accounts/grad/czye/GPN/gpn/analysis/gpn-star/train_and_eval/results/'\n",
    "\n",
    "FILE_PATHS = {}\n",
    "\n",
    "FILE_PATHS['V'] = {\n",
    "    'model_path': WORKING_DIR + 'checkpoints/hg38/fire_1/0.2/multiz100way/100/128/64/True/defined.phastCons100way.percentile-75_0.05_0.001/large/0.1/42/200000/True/True/0.1',\n",
    "    'msa_path': WORKING_DIR + 'msa/hg38/multiz100way/100',\n",
    "    'phylo_info_path': WORKING_DIR + 'phylo_info/hg38/multiz100way/100/phylo_dist/0.2',\n",
    "}\n",
    "\n",
    "FILE_PATHS['M'] = {\n",
    "    'model_path': WORKING_DIR + 'checkpoints/hg38/fire_1/0.05/cactus447way/447/256/128/True/defined.phastCons470way.percentile-75_0.05_0.001/large/0.1/42/200000/True/True/0.1',\n",
    "    'msa_path': WORKING_DIR + 'msa/hg38/cactus447way/447',\n",
    "    'phylo_info_path': WORKING_DIR + 'phylo_info/hg38/cactus447way/447/phylo_dist/0.05',\n",
    "}\n",
    "\n",
    "FILE_PATHS['P'] = {\n",
    "    'model_path': WORKING_DIR + 'hg38/fire_1/0.05/cactus447way/243/256/128/True/defined.phastCons43way.percentile-75_0.05_0.001/large/0.1/42/200000/True/True/0.2',\n",
    "    'msa_path': WORKING_DIR + 'msa/hg38/cactus447way/243',\n",
    "    'phylo_info_path': WORKING_DIR + 'phylo_info/hg38/cactus447way/243/phylo_dist/0.05',\n",
    "}"
   ]
  },
  {
   "cell_type": "code",
   "execution_count": 4,
   "metadata": {},
   "outputs": [],
   "source": [
    "TIME_SCALE = 'V' # 'M' # 'P'"
   ]
  },
  {
   "attachments": {},
   "cell_type": "markdown",
   "metadata": {},
   "source": [
    "# Load input data"
   ]
  },
  {
   "attachments": {},
   "cell_type": "markdown",
   "metadata": {},
   "source": [
    "Example region: chr6:31575665-31575793\n",
    "\n",
    "[UCSC Genome Browser view](https://genome.ucsc.edu/cgi-bin/hgTracks?db=hg38&lastVirtModeType=default&lastVirtModeExtraState=&virtModeType=default&virtMode=0&nonVirtPosition=&position=chr6%3A31575665%2D31575793&hgsid=1726885238_vIMnX2NGEluaKCXVZjeTkj97aydM) "
   ]
  },
  {
   "cell_type": "code",
   "execution_count": 7,
   "metadata": {},
   "outputs": [
    {
     "name": "stdout",
     "output_type": "stream",
     "text": [
      "Loading MSA...\n",
      "Loading MSA... Done\n"
     ]
    }
   ],
   "source": [
    "msa_paths = find_directory_sum_paths(FILE_PATHS[TIME_SCALE]['msa_path'])\n",
    "genome_msa_list = [GenomeMSA(path, n_species=n_species, in_memory=False) for n_species, path in msa_paths.items()]"
   ]
  },
  {
   "cell_type": "code",
   "execution_count": 6,
   "metadata": {},
   "outputs": [],
   "source": [
    "##### Use both the forward and reverse strand #####\n",
    "# msa_fwd, msa_rev = zip(*[\n",
    "#     genome_msa.get_msa_batch_fwd_rev(chrom, start, end, tokenize=True)\n",
    "#     for genome_msa in self.genome_msa_list\n",
    "# ])\n",
    "# msa_fwd = np.concatenate(msa_fwd, axis=-1)\n",
    "# msa_rev = np.concatenate(msa_rev, axis=-1)"
   ]
  },
  {
   "cell_type": "code",
   "execution_count": 8,
   "metadata": {},
   "outputs": [
    {
     "name": "stdout",
     "output_type": "stream",
     "text": [
      "(128, 100)\n"
     ]
    },
    {
     "data": {
      "text/plain": [
       "array([[b'A', b'A', b'A', ..., b'-', b'-', b'-'],\n",
       "       [b'C', b'C', b'C', ..., b'-', b'-', b'-'],\n",
       "       [b'A', b'A', b'A', ..., b'-', b'-', b'-'],\n",
       "       ...,\n",
       "       [b'T', b'T', b'T', ..., b'-', b'-', b'-'],\n",
       "       [b'C', b'C', b'C', ..., b'-', b'-', b'-'],\n",
       "       [b'C', b'C', b'C', ..., b'-', b'-', b'-']],\n",
       "      shape=(128, 100), dtype='|S1')"
      ]
     },
     "execution_count": 8,
     "metadata": {},
     "output_type": "execute_result"
    }
   ],
   "source": [
    "raw_msa = [genome_msa.get_msa(\"6\", 31575665, 31575793, strand=\"+\", tokenize=False) for genome_msa in genome_msa_list]\n",
    "raw_msa = np.concatenate(raw_msa, axis=-1)\n",
    "print(raw_msa.shape)\n",
    "raw_msa"
   ]
  },
  {
   "cell_type": "code",
   "execution_count": 9,
   "metadata": {},
   "outputs": [
    {
     "name": "stdout",
     "output_type": "stream",
     "text": [
      "(128, 100)\n"
     ]
    },
    {
     "data": {
      "text/plain": [
       "array([[1, 1, 1, ..., 0, 0, 0],\n",
       "       [2, 2, 2, ..., 0, 0, 0],\n",
       "       [1, 1, 1, ..., 0, 0, 0],\n",
       "       ...,\n",
       "       [4, 4, 4, ..., 0, 0, 0],\n",
       "       [2, 2, 2, ..., 0, 0, 0],\n",
       "       [2, 2, 2, ..., 0, 0, 0]], shape=(128, 100), dtype=uint8)"
      ]
     },
     "execution_count": 9,
     "metadata": {},
     "output_type": "execute_result"
    }
   ],
   "source": [
    "msa = [genome_msa.get_msa(\"6\", 31575665, 31575793, strand=\"+\", tokenize=True) for genome_msa in genome_msa_list]\n",
    "msa = np.concatenate(msa, axis=-1)\n",
    "print(msa.shape)\n",
    "msa"
   ]
  },
  {
   "cell_type": "code",
   "execution_count": 10,
   "metadata": {},
   "outputs": [
    {
     "data": {
      "text/plain": [
       "tensor([[[1, 1, 1,  ..., 0, 0, 0],\n",
       "         [2, 2, 2,  ..., 0, 0, 0],\n",
       "         [1, 1, 1,  ..., 0, 0, 0],\n",
       "         ...,\n",
       "         [4, 4, 4,  ..., 0, 0, 0],\n",
       "         [2, 2, 2,  ..., 0, 0, 0],\n",
       "         [2, 2, 2,  ..., 0, 0, 0]]])"
      ]
     },
     "execution_count": 10,
     "metadata": {},
     "output_type": "execute_result"
    }
   ],
   "source": [
    "msa = torch.tensor(np.expand_dims(msa, 0).astype(np.int64))\n",
    "msa"
   ]
  },
  {
   "cell_type": "code",
   "execution_count": 11,
   "metadata": {},
   "outputs": [
    {
     "data": {
      "text/plain": [
       "(torch.Size([1, 128, 1]), torch.Size([1, 128, 100]))"
      ]
     },
     "execution_count": 11,
     "metadata": {},
     "output_type": "execute_result"
    }
   ],
   "source": [
    "# define human as the target species and use all species as source species\n",
    "input_ids, source_ids = msa[:, :, :1], msa\n",
    "input_ids.shape, source_ids.shape"
   ]
  },
  {
   "attachments": {},
   "cell_type": "markdown",
   "metadata": {},
   "source": [
    "# Get logits"
   ]
  },
  {
   "cell_type": "code",
   "execution_count": 12,
   "metadata": {},
   "outputs": [],
   "source": [
    "config = AutoConfig.from_pretrained(FILE_PATHS[TIME_SCALE]['model_path'])"
   ]
  },
  {
   "cell_type": "code",
   "execution_count": 13,
   "metadata": {},
   "outputs": [],
   "source": [
    "config.phylo_dist_path = FILE_PATHS[TIME_SCALE]['phylo_info_path']"
   ]
  },
  {
   "cell_type": "code",
   "execution_count": 14,
   "metadata": {},
   "outputs": [
    {
     "data": {
      "text/plain": [
       "GPNStarForMaskedLM(\n",
       "  (model): GPNStarModel(\n",
       "    (target_embedding): GPNStarEmbedding(\n",
       "      (input_embed): Embedding(6, 1024)\n",
       "    )\n",
       "    (source_embedding): GPNStarSourceModule(\n",
       "      (attn_pool): GPNStarAttentionPool(\n",
       "        (attention_weights): Embedding(6, 8)\n",
       "        (value): Embedding(6, 512)\n",
       "        (dropout): Dropout(p=0.1, inplace=False)\n",
       "        (ffn): Linear(in_features=512, out_features=1024, bias=True)\n",
       "      )\n",
       "      (embed): Embedding(6, 1024)\n",
       "      (embed_positions): FIRETimeBias(\n",
       "        (mlp): Sequential(\n",
       "          (0): Linear(in_features=1, out_features=32, bias=False)\n",
       "          (1): SiLU()\n",
       "          (2): Linear(in_features=32, out_features=1, bias=False)\n",
       "        )\n",
       "      )\n",
       "    )\n",
       "    (encoder): GPNStarEncoder(\n",
       "      (embed_positions): RoFormerSinusoidalPositionalEmbedding(1536, 64)\n",
       "      (layer): ModuleList(\n",
       "        (0-15): 16 x GPNStarLayer(\n",
       "          (attention): GPNStarAttention(\n",
       "            (row_attention): GPNStarRowAttention(\n",
       "              (self): GPNStarRowSelfAttention(\n",
       "                (query): Linear(in_features=1024, out_features=512, bias=True)\n",
       "                (key): Linear(in_features=1024, out_features=512, bias=True)\n",
       "                (value): Linear(in_features=1024, out_features=512, bias=True)\n",
       "                (dropout): Dropout(p=0.1, inplace=False)\n",
       "              )\n",
       "              (out): GPNStarRowSelfOutput(\n",
       "                (dense): Linear(in_features=512, out_features=1024, bias=True)\n",
       "                (LayerNorm): LayerNorm((1024,), eps=1e-12, elementwise_affine=True)\n",
       "                (dropout): Dropout(p=0.1, inplace=False)\n",
       "              )\n",
       "            )\n",
       "            (col_attention): GPNStarColAttention(\n",
       "              (self): GPNStarColCrossAttention(\n",
       "                (query): Linear(in_features=1024, out_features=512, bias=True)\n",
       "                (key): Linear(in_features=1024, out_features=512, bias=True)\n",
       "                (value): Linear(in_features=1024, out_features=512, bias=True)\n",
       "              )\n",
       "              (out): GPNStarColCrossOutput(\n",
       "                (dense): Linear(in_features=512, out_features=1024, bias=True)\n",
       "                (LayerNorm): LayerNorm((1024,), eps=1e-12, elementwise_affine=True)\n",
       "                (dropout): Dropout(p=0.1, inplace=False)\n",
       "              )\n",
       "              (embed_positions): FIRETimeBias(\n",
       "                (mlp): Sequential(\n",
       "                  (0): Linear(in_features=1, out_features=32, bias=False)\n",
       "                  (1): SiLU()\n",
       "                  (2): Linear(in_features=32, out_features=1, bias=False)\n",
       "                )\n",
       "              )\n",
       "            )\n",
       "          )\n",
       "          (intermediate): RoFormerIntermediate(\n",
       "            (dense): Linear(in_features=1024, out_features=4096, bias=True)\n",
       "            (intermediate_act_fn): GELUActivation()\n",
       "          )\n",
       "          (output): RoFormerOutput(\n",
       "            (dense): Linear(in_features=4096, out_features=1024, bias=True)\n",
       "            (LayerNorm): LayerNorm((1024,), eps=1e-12, elementwise_affine=True)\n",
       "            (dropout): Dropout(p=0.1, inplace=False)\n",
       "          )\n",
       "        )\n",
       "      )\n",
       "    )\n",
       "  )\n",
       "  (cls): RoFormerOnlyMLMHead(\n",
       "    (predictions): RoFormerLMPredictionHead(\n",
       "      (transform): RoFormerPredictionHeadTransform(\n",
       "        (dense): Linear(in_features=1024, out_features=768, bias=True)\n",
       "        (transform_act_fn): GELUActivation()\n",
       "        (LayerNorm): LayerNorm((768,), eps=1e-12, elementwise_affine=True)\n",
       "      )\n",
       "      (decoder): Linear(in_features=768, out_features=6, bias=True)\n",
       "    )\n",
       "  )\n",
       ")"
      ]
     },
     "execution_count": 14,
     "metadata": {},
     "output_type": "execute_result"
    }
   ],
   "source": [
    "model_for_mlm = AutoModelForMaskedLM.from_pretrained(FILE_PATHS[TIME_SCALE]['model_path'], config=config)\n",
    "model_for_mlm.eval()"
   ]
  },
  {
   "cell_type": "code",
   "execution_count": 15,
   "metadata": {},
   "outputs": [
    {
     "data": {
      "text/plain": [
       "array([b'A', b'T', b'G'], dtype='|S1')"
      ]
     },
     "execution_count": 15,
     "metadata": {},
     "output_type": "execute_result"
    }
   ],
   "source": [
    "raw_msa[76:79, 0]  # Start codon"
   ]
  },
  {
   "cell_type": "code",
   "execution_count": 16,
   "metadata": {},
   "outputs": [],
   "source": [
    "tokenizer = Tokenizer()\n",
    "pos = 76  # Let's mask the A and check the model predictions\n",
    "input_ids[0, pos] = tokenizer.mask_token_id()"
   ]
  },
  {
   "cell_type": "code",
   "execution_count": 17,
   "metadata": {},
   "outputs": [
    {
     "data": {
      "text/plain": [
       "torch.Size([1, 128, 1])"
      ]
     },
     "execution_count": 17,
     "metadata": {},
     "output_type": "execute_result"
    }
   ],
   "source": [
    "input_ids.shape"
   ]
  },
  {
   "cell_type": "code",
   "execution_count": 18,
   "metadata": {},
   "outputs": [
    {
     "name": "stderr",
     "output_type": "stream",
     "text": [
      "/accounts/grad/czye/conda/envs/gpn_env/envs/gpn_star/lib/python3.10/contextlib.py:103: FutureWarning: `torch.backends.cuda.sdp_kernel()` is deprecated. In the future, this context manager will be removed. Please see `torch.nn.attention.sdpa_kernel()` for the new context manager, with updated signature.\n",
      "  self.gen = func(*args, **kwds)\n"
     ]
    },
    {
     "data": {
      "text/plain": [
       "torch.Size([1, 128, 1, 6])"
      ]
     },
     "execution_count": 18,
     "metadata": {},
     "output_type": "execute_result"
    }
   ],
   "source": [
    "with torch.no_grad():\n",
    "    all_logits = model_for_mlm.forward(input_ids=input_ids, \n",
    "                                       source_ids=source_ids, \n",
    "                                       target_species=np.array([[0]], dtype=int)).logits\n",
    "all_logits.shape # (batch_size, seq_len, num_target, vocab_size)"
   ]
  },
  {
   "cell_type": "code",
   "execution_count": 19,
   "metadata": {},
   "outputs": [
    {
     "data": {
      "text/plain": [
       "tensor([ 7.7062, -1.9220, -0.6912, -2.6507])"
      ]
     },
     "execution_count": 19,
     "metadata": {},
     "output_type": "execute_result"
    }
   ],
   "source": [
    "nucleotides = list('ACGT')\n",
    "logits = all_logits.squeeze()[pos, [tokenizer.vocab.index(nc) for nc in nucleotides]]\n",
    "logits"
   ]
  },
  {
   "cell_type": "code",
   "execution_count": 20,
   "metadata": {},
   "outputs": [
    {
     "data": {
      "text/plain": [
       "array([9.9967706e-01, 6.5820524e-05, 2.2536943e-04, 3.1760745e-05],\n",
       "      dtype=float32)"
      ]
     },
     "execution_count": 20,
     "metadata": {},
     "output_type": "execute_result"
    }
   ],
   "source": [
    "probs = torch.nn.functional.softmax(logits, dim=0).numpy()\n",
    "probs"
   ]
  },
  {
   "cell_type": "code",
   "execution_count": 21,
   "metadata": {},
   "outputs": [
    {
     "data": {
      "text/plain": [
       "<Axes: xlabel='nucleotide', ylabel='probability'>"
      ]
     },
     "execution_count": 21,
     "metadata": {},
     "output_type": "execute_result"
    },
    {
     "data": {
      "image/png": "[encoded data removed]",
      "text/plain": [
       "<Figure size 640x480 with 1 Axes>"
      ]
     },
     "metadata": {},
     "output_type": "display_data"
    }
   ],
   "source": [
    "probs_df = pd.DataFrame(dict(nucleotide=nucleotides, probability=probs))\n",
    "sns.barplot(data=probs_df, x=\"nucleotide\", y=\"probability\")"
   ]
  },
  {
   "cell_type": "code",
   "execution_count": null,
   "metadata": {},
   "outputs": [],
   "source": []
  }
 ],
 "metadata": {
  "kernelspec": {
   "display_name": "gpn_star",
   "language": "python",
   "name": "gpn_star"
  },
  "language_info": {
   "codemirror_mode": {
    "name": "ipython",
    "version": 3
   },
   "file_extension": ".py",
   "mimetype": "text/x-python",
   "name": "python",
   "nbconvert_exporter": "python",
   "pygments_lexer": "ipython3",
   "version": "3.10.12"
  },
  "orig_nbformat": 4,
  "vscode": {
   "interpreter": {
    "hash": "70cef001e7899d67479237fa777948f788de4d41f418058f4a52b0d2ea183d21"
   }
  }
 },
 "nbformat": 4,
 "nbformat_minor": 2
}
