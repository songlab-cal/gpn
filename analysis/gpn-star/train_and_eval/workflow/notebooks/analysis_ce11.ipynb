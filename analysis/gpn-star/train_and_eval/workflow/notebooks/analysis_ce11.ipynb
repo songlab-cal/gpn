{
 "cells": [
  {
   "cell_type": "markdown",
   "id": "425b9bca",
   "metadata": {},
   "source": [
    "# Import and Define"
   ]
  },
  {
   "cell_type": "code",
   "execution_count": 1,
   "id": "03938696",
   "metadata": {},
   "outputs": [
    {
     "name": "stderr",
     "output_type": "stream",
     "text": [
      "/accounts/grad/czye/conda/envs/gpn_env/envs/gpn_star/lib/python3.10/site-packages/tqdm/auto.py:21: TqdmWarning: IProgress not found. Please update jupyter and ipywidgets. See https://ipywidgets.readthedocs.io/en/stable/user_install.html\n",
      "  from .autonotebook import tqdm as notebook_tqdm\n"
     ]
    }
   ],
   "source": [
    "from plot import *\n",
    "import numpy as np\n",
    "import pandas as pd\n",
    "import polars as pl\n",
    "from huggingface_hub import hf_hub_download, snapshot_download\n",
    "\n",
    "from scipy.stats import spearmanr\n",
    "from sklearn.metrics import roc_auc_score, precision_recall_curve, auc, RocCurveDisplay, average_precision_score, PrecisionRecallDisplay\n",
    "from tqdm import tqdm\n",
    "tqdm.pandas()"
   ]
  },
  {
   "cell_type": "code",
   "execution_count": 2,
   "id": "e74f249b",
   "metadata": {},
   "outputs": [],
   "source": [
    "palette = {\n",
    "    'GPN-Star': \"#2773BA\",\n",
    "    'PhyloP': '#9E66BA', \n",
    "    'PhastCons': '#C4494B',\n",
    "}"
   ]
  },
  {
   "cell_type": "code",
   "execution_count": 3,
   "id": "323e67a0",
   "metadata": {},
   "outputs": [],
   "source": [
    "# model groups\n",
    "\n",
    "gpn_star_models = [\n",
    "    'GPN-Star'\n",
    "]\n",
    "\n",
    "genome_wide_veps = [\n",
    "    'PhyloP',\n",
    "    'PhastCons',\n",
    "]"
   ]
  },
  {
   "cell_type": "code",
   "execution_count": 4,
   "id": "1285e1d0",
   "metadata": {},
   "outputs": [],
   "source": [
    "WORK_DIR = 'tmp/'"
   ]
  },
  {
   "cell_type": "markdown",
   "id": "a030133a",
   "metadata": {},
   "source": [
    "# CaeNDR rare vs. common enrichment"
   ]
  },
  {
   "cell_type": "code",
   "execution_count": 5,
   "id": "99e5f622",
   "metadata": {},
   "outputs": [
    {
     "name": "stderr",
     "output_type": "stream",
     "text": [
      "Fetching 6 files: 100%|██████████| 6/6 [00:01<00:00,  4.14it/s]\n"
     ]
    },
    {
     "data": {
      "text/plain": [
       "'/accounts/grad/czye/GPN/gpn/analysis/gpn-star/train_and_eval/workflow/notebooks/tmp/caendr'"
      ]
     },
     "execution_count": 5,
     "metadata": {},
     "output_type": "execute_result"
    }
   ],
   "source": [
    "snapshot_download(repo_id=\"songlab/caendr\", local_dir=f\"{WORK_DIR}/caendr\", repo_type=\"dataset\")"
   ]
  },
  {
   "cell_type": "code",
   "execution_count": 6,
   "id": "a1a29269",
   "metadata": {},
   "outputs": [],
   "source": [
    "V_caendr = pd.read_parquet(f'{WORK_DIR}/caendr/test.parquet')\n",
    "\n",
    "all_models = genome_wide_veps + gpn_star_models\n",
    "for m in all_models:\n",
    "    V_caendr[m] = pd.read_parquet(f'{WORK_DIR}/caendr/predictions/{m}.parquet')"
   ]
  },
  {
   "cell_type": "code",
   "execution_count": 7,
   "id": "b84f5401",
   "metadata": {},
   "outputs": [
    {
     "data": {
      "text/html": [
       "<div><style>\n",
       ".dataframe > thead > tr,\n",
       ".dataframe > tbody > tr {\n",
       "  text-align: right;\n",
       "  white-space: pre-wrap;\n",
       "}\n",
       "</style>\n",
       "<small>shape: (650_238, 12)</small><table border=\"1\" class=\"dataframe\"><thead><tr><th>chrom</th><th>pos</th><th>ref</th><th>alt</th><th>AF</th><th>AC</th><th>AN</th><th>consequence</th><th>label</th><th>PhyloP</th><th>PhastCons</th><th>GPN-Star</th></tr><tr><td>str</td><td>i64</td><td>str</td><td>str</td><td>f64</td><td>i64</td><td>i64</td><td>str</td><td>bool</td><td>f64</td><td>f64</td><td>f64</td></tr></thead><tbody><tr><td>&quot;I&quot;</td><td>855</td><td>&quot;G&quot;</td><td>&quot;C&quot;</td><td>0.677083</td><td>390</td><td>576</td><td>&quot;intergenic&quot;</td><td>false</td><td>-0.104</td><td>0.801</td><td>2.739304</td></tr><tr><td>&quot;I&quot;</td><td>1222</td><td>&quot;A&quot;</td><td>&quot;C&quot;</td><td>0.320248</td><td>310</td><td>968</td><td>&quot;intergenic&quot;</td><td>false</td><td>-0.361</td><td>0.983</td><td>0.812919</td></tr><tr><td>&quot;I&quot;</td><td>1761</td><td>&quot;G&quot;</td><td>&quot;A&quot;</td><td>0.229572</td><td>236</td><td>1028</td><td>&quot;intergenic&quot;</td><td>false</td><td>-0.359</td><td>0.961</td><td>1.379366</td></tr><tr><td>&quot;I&quot;</td><td>1799</td><td>&quot;T&quot;</td><td>&quot;C&quot;</td><td>0.210938</td><td>216</td><td>1024</td><td>&quot;intergenic&quot;</td><td>false</td><td>-0.268</td><td>0.995</td><td>0.930115</td></tr><tr><td>&quot;I&quot;</td><td>1933</td><td>&quot;C&quot;</td><td>&quot;G&quot;</td><td>0.736842</td><td>756</td><td>1026</td><td>&quot;intergenic&quot;</td><td>false</td><td>0.181</td><td>0.752</td><td>-1.178047</td></tr><tr><td>&hellip;</td><td>&hellip;</td><td>&hellip;</td><td>&hellip;</td><td>&hellip;</td><td>&hellip;</td><td>&hellip;</td><td>&hellip;</td><td>&hellip;</td><td>&hellip;</td><td>&hellip;</td><td>&hellip;</td></tr><tr><td>&quot;X&quot;</td><td>17715277</td><td>&quot;G&quot;</td><td>&quot;A&quot;</td><td>0.206133</td><td>242</td><td>1174</td><td>&quot;intron&quot;</td><td>false</td><td>-0.234</td><td>0.933</td><td>-0.018484</td></tr><tr><td>&quot;X&quot;</td><td>17715428</td><td>&quot;T&quot;</td><td>&quot;C&quot;</td><td>0.397284</td><td>468</td><td>1178</td><td>&quot;intron&quot;</td><td>false</td><td>2.305</td><td>0.998</td><td>-1.633365</td></tr><tr><td>&quot;X&quot;</td><td>17718438</td><td>&quot;C&quot;</td><td>&quot;T&quot;</td><td>0.286942</td><td>334</td><td>1164</td><td>&quot;missense&quot;</td><td>false</td><td>-0.038</td><td>0.997</td><td>0.951009</td></tr><tr><td>&quot;X&quot;</td><td>17718576</td><td>&quot;C&quot;</td><td>&quot;A&quot;</td><td>0.212329</td><td>248</td><td>1168</td><td>&quot;missense&quot;</td><td>false</td><td>-0.274</td><td>0.0</td><td>0.230911</td></tr><tr><td>&quot;X&quot;</td><td>17718688</td><td>&quot;C&quot;</td><td>&quot;T&quot;</td><td>0.207254</td><td>240</td><td>1158</td><td>&quot;3_prime_UTR&quot;</td><td>false</td><td>-0.431</td><td>0.663</td><td>0.221849</td></tr></tbody></table></div>"
      ],
      "text/plain": [
       "shape: (650_238, 12)\n",
       "┌───────┬──────────┬─────┬─────┬───┬───────┬────────┬───────────┬───────────┐\n",
       "│ chrom ┆ pos      ┆ ref ┆ alt ┆ … ┆ label ┆ PhyloP ┆ PhastCons ┆ GPN-Star  │\n",
       "│ ---   ┆ ---      ┆ --- ┆ --- ┆   ┆ ---   ┆ ---    ┆ ---       ┆ ---       │\n",
       "│ str   ┆ i64      ┆ str ┆ str ┆   ┆ bool  ┆ f64    ┆ f64       ┆ f64       │\n",
       "╞═══════╪══════════╪═════╪═════╪═══╪═══════╪════════╪═══════════╪═══════════╡\n",
       "│ I     ┆ 855      ┆ G   ┆ C   ┆ … ┆ false ┆ -0.104 ┆ 0.801     ┆ 2.739304  │\n",
       "│ I     ┆ 1222     ┆ A   ┆ C   ┆ … ┆ false ┆ -0.361 ┆ 0.983     ┆ 0.812919  │\n",
       "│ I     ┆ 1761     ┆ G   ┆ A   ┆ … ┆ false ┆ -0.359 ┆ 0.961     ┆ 1.379366  │\n",
       "│ I     ┆ 1799     ┆ T   ┆ C   ┆ … ┆ false ┆ -0.268 ┆ 0.995     ┆ 0.930115  │\n",
       "│ I     ┆ 1933     ┆ C   ┆ G   ┆ … ┆ false ┆ 0.181  ┆ 0.752     ┆ -1.178047 │\n",
       "│ …     ┆ …        ┆ …   ┆ …   ┆ … ┆ …     ┆ …      ┆ …         ┆ …         │\n",
       "│ X     ┆ 17715277 ┆ G   ┆ A   ┆ … ┆ false ┆ -0.234 ┆ 0.933     ┆ -0.018484 │\n",
       "│ X     ┆ 17715428 ┆ T   ┆ C   ┆ … ┆ false ┆ 2.305  ┆ 0.998     ┆ -1.633365 │\n",
       "│ X     ┆ 17718438 ┆ C   ┆ T   ┆ … ┆ false ┆ -0.038 ┆ 0.997     ┆ 0.951009  │\n",
       "│ X     ┆ 17718576 ┆ C   ┆ A   ┆ … ┆ false ┆ -0.274 ┆ 0.0       ┆ 0.230911  │\n",
       "│ X     ┆ 17718688 ┆ C   ┆ T   ┆ … ┆ false ┆ -0.431 ┆ 0.663     ┆ 0.221849  │\n",
       "└───────┴──────────┴─────┴─────┴───┴───────┴────────┴───────────┴───────────┘"
      ]
     },
     "execution_count": 7,
     "metadata": {},
     "output_type": "execute_result"
    }
   ],
   "source": [
    "V_caendr = pl.from_pandas(V_caendr) # compute in polars for efficiency\n",
    "V_caendr"
   ]
  },
  {
   "cell_type": "code",
   "execution_count": 8,
   "id": "239de7ab",
   "metadata": {},
   "outputs": [
    {
     "name": "stderr",
     "output_type": "stream",
     "text": [
      " 54%|█████▍    | 7/13 [00:00<00:00, 59.28it/s]"
     ]
    },
    {
     "name": "stderr",
     "output_type": "stream",
     "text": [
      "100%|██████████| 13/13 [00:00<00:00, 60.85it/s]\n"
     ]
    },
    {
     "data": {
      "text/html": [
       "<div>\n",
       "<style scoped>\n",
       "    .dataframe tbody tr th:only-of-type {\n",
       "        vertical-align: middle;\n",
       "    }\n",
       "\n",
       "    .dataframe tbody tr th {\n",
       "        vertical-align: top;\n",
       "    }\n",
       "\n",
       "    .dataframe thead th {\n",
       "        text-align: right;\n",
       "    }\n",
       "</style>\n",
       "<table border=\"1\" class=\"dataframe\">\n",
       "  <thead>\n",
       "    <tr style=\"text-align: right;\">\n",
       "      <th></th>\n",
       "      <th>n</th>\n",
       "      <th>Odds ratio</th>\n",
       "      <th>p_value</th>\n",
       "      <th>Consequence</th>\n",
       "      <th>Model</th>\n",
       "      <th>n_pos</th>\n",
       "      <th>n_neg</th>\n",
       "    </tr>\n",
       "  </thead>\n",
       "  <tbody>\n",
       "    <tr>\n",
       "      <th>0</th>\n",
       "      <td>30</td>\n",
       "      <td>1.783885</td>\n",
       "      <td>1.798988e-03</td>\n",
       "      <td>downstream_gene</td>\n",
       "      <td>PhyloP</td>\n",
       "      <td>22533</td>\n",
       "      <td>10447</td>\n",
       "    </tr>\n",
       "    <tr>\n",
       "      <th>1</th>\n",
       "      <td>30</td>\n",
       "      <td>1.990893</td>\n",
       "      <td>7.547264e-36</td>\n",
       "      <td>downstream_gene</td>\n",
       "      <td>PhastCons</td>\n",
       "      <td>22533</td>\n",
       "      <td>10447</td>\n",
       "    </tr>\n",
       "    <tr>\n",
       "      <th>2</th>\n",
       "      <td>30</td>\n",
       "      <td>7.734132</td>\n",
       "      <td>2.935352e-50</td>\n",
       "      <td>downstream_gene</td>\n",
       "      <td>GPN-Star</td>\n",
       "      <td>22533</td>\n",
       "      <td>10447</td>\n",
       "    </tr>\n",
       "    <tr>\n",
       "      <th>3</th>\n",
       "      <td>30</td>\n",
       "      <td>1.807365</td>\n",
       "      <td>1.027073e-03</td>\n",
       "      <td>3_prime_UTR</td>\n",
       "      <td>PhyloP</td>\n",
       "      <td>16467</td>\n",
       "      <td>5966</td>\n",
       "    </tr>\n",
       "    <tr>\n",
       "      <th>4</th>\n",
       "      <td>30</td>\n",
       "      <td>2.273069</td>\n",
       "      <td>1.762452e-32</td>\n",
       "      <td>3_prime_UTR</td>\n",
       "      <td>PhastCons</td>\n",
       "      <td>16467</td>\n",
       "      <td>5966</td>\n",
       "    </tr>\n",
       "  </tbody>\n",
       "</table>\n",
       "</div>"
      ],
      "text/plain": [
       "    n  Odds ratio       p_value      Consequence      Model  n_pos  n_neg\n",
       "0  30    1.783885  1.798988e-03  downstream_gene     PhyloP  22533  10447\n",
       "1  30    1.990893  7.547264e-36  downstream_gene  PhastCons  22533  10447\n",
       "2  30    7.734132  2.935352e-50  downstream_gene   GPN-Star  22533  10447\n",
       "3  30    1.807365  1.027073e-03      3_prime_UTR     PhyloP  16467   5966\n",
       "4  30    2.273069  1.762452e-32      3_prime_UTR  PhastCons  16467   5966"
      ]
     },
     "execution_count": 8,
     "metadata": {},
     "output_type": "execute_result"
    }
   ],
   "source": [
    "results_caendr = []\n",
    "for c in tqdm(V_caendr['consequence'].unique().to_list()+['all']):\n",
    "    if c != 'all' and (V_caendr['consequence']==c).sum() < 500:\n",
    "        continue\n",
    "    df_c = V_caendr.clone() if c == \"all\" else V_caendr.filter(pl.col(\"consequence\") == c)\n",
    "    df_c = df_c.drop_nulls(subset=all_models)\n",
    "    n_pos, n_neg = df_c[\"label\"].sum(), (~df_c[\"label\"]).sum()\n",
    "    for m in all_models:\n",
    "        try:\n",
    "            if m not in gpn_star_models:\n",
    "                # Fix: Apply negation to the score column instead of the DataFrame\n",
    "                selected_df = df_c.select([\"label\", pl.col(m).alias(\"score\")])\n",
    "                selected_df = selected_df.with_columns(pl.col(\"score\") * -1)\n",
    "                odds_ratio = (\n",
    "                    get_odds_ratio(selected_df, [30])\n",
    "                    .with_columns(\n",
    "                        Consequence=pl.lit(c), Model=pl.lit(m),\n",
    "                        n_pos=pl.lit(n_pos), n_neg=pl.lit(n_neg),\n",
    "                    )\n",
    "                )\n",
    "                results_caendr.append(odds_ratio)\n",
    "            else:\n",
    "                odds_ratio = (\n",
    "                    get_odds_ratio(df_c.select([\"label\", pl.col(m).alias(\"score\")]), [30])\n",
    "                    .with_columns(\n",
    "                        Consequence=pl.lit(c), Model=pl.lit(m),\n",
    "                        n_pos=pl.lit(n_pos), n_neg=pl.lit(n_neg),\n",
    "                    )\n",
    "                )\n",
    "                results_caendr.append(odds_ratio)\n",
    "        except:\n",
    "            pass\n",
    "\n",
    "results_caendr = pl.concat(results_caendr).to_pandas()\n",
    "results_caendr.head()"
   ]
  },
  {
   "cell_type": "code",
   "execution_count": 9,
   "id": "74312f78",
   "metadata": {},
   "outputs": [],
   "source": [
    "replacements = {\n",
    "    \"5_prime_UTR\": \"5' UTR\",\n",
    "    \"3_prime_UTR\": \"3' UTR\",\n",
    "    \"upstream_gene\": \"upstream-of-gene\",\n",
    "    \"downstream_gene\": \"downstream-of-gene\",\n",
    "    \"splice_region\": \"splice-region\",\n",
    "    \"start_or_stop\": \"start-or-stop\",\n",
    "}\n",
    "results_caendr['Consequence'] = results_caendr['Consequence'].replace(replacements)"
   ]
  },
  {
   "cell_type": "code",
   "execution_count": 10,
   "id": "d73f9cf7",
   "metadata": {},
   "outputs": [],
   "source": [
    "results_caendr = results_caendr.sort_values('Odds ratio', ascending = False)"
   ]
  },
  {
   "cell_type": "code",
   "execution_count": 11,
   "id": "cac69fa3",
   "metadata": {},
   "outputs": [
    {
     "name": "stderr",
     "output_type": "stream",
     "text": [
      "/accounts/grad/czye/GPN/gpn/analysis/gpn-star/train_and_eval/workflow/notebooks/plot.py:414: FutureWarning: \n",
      "\n",
      "Passing `palette` without assigning `hue` is deprecated and will be removed in v0.14.0. Assign the `x` variable to `hue` and set `legend=False` for the same effect.\n",
      "\n",
      "  g = sns.barplot(\n"
     ]
    },
    {
     "data": {
      "image/png": "[encoded data removed]",
      "text/plain": [
       "<Figure size 120x160 with 1 Axes>"
      ]
     },
     "metadata": {},
     "output_type": "display_data"
    }
   ],
   "source": [
    "barplot_vertical(\n",
    "    results_caendr[\n",
    "        (results_caendr.p_value < 0.05) &\n",
    "        (results_caendr.Consequence == \"all\")\n",
    "    ],\n",
    "    \"Odds ratio\",\n",
    "    r\"$\\bf{\\sf{CaeNDR}}$\" + \"\\nrare vs. common\",\n",
    "    y=1.35, width=1.2, height=1.6,\n",
    "    palette=palette,\n",
    ")"
   ]
  },
  {
   "cell_type": "code",
   "execution_count": 12,
   "id": "ca2cfbce",
   "metadata": {},
   "outputs": [
    {
     "name": "stderr",
     "output_type": "stream",
     "text": [
      "/accounts/grad/czye/GPN/gpn/analysis/gpn-star/train_and_eval/workflow/notebooks/plot.py:293: FutureWarning: \n",
      "\n",
      "Passing `palette` without assigning `hue` is deprecated and will be removed in v0.14.0. Assign the `x` variable to `hue` and set `legend=False` for the same effect.\n",
      "\n",
      "  sns.barplot(\n",
      "/accounts/grad/czye/GPN/gpn/analysis/gpn-star/train_and_eval/workflow/notebooks/plot.py:293: FutureWarning: \n",
      "\n",
      "Passing `palette` without assigning `hue` is deprecated and will be removed in v0.14.0. Assign the `x` variable to `hue` and set `legend=False` for the same effect.\n",
      "\n",
      "  sns.barplot(\n",
      "/accounts/grad/czye/GPN/gpn/analysis/gpn-star/train_and_eval/workflow/notebooks/plot.py:293: FutureWarning: \n",
      "\n",
      "Passing `palette` without assigning `hue` is deprecated and will be removed in v0.14.0. Assign the `x` variable to `hue` and set `legend=False` for the same effect.\n",
      "\n",
      "  sns.barplot(\n",
      "/accounts/grad/czye/GPN/gpn/analysis/gpn-star/train_and_eval/workflow/notebooks/plot.py:293: FutureWarning: \n",
      "\n",
      "Passing `palette` without assigning `hue` is deprecated and will be removed in v0.14.0. Assign the `x` variable to `hue` and set `legend=False` for the same effect.\n",
      "\n",
      "  sns.barplot(\n",
      "/accounts/grad/czye/GPN/gpn/analysis/gpn-star/train_and_eval/workflow/notebooks/plot.py:293: FutureWarning: \n",
      "\n",
      "Passing `palette` without assigning `hue` is deprecated and will be removed in v0.14.0. Assign the `x` variable to `hue` and set `legend=False` for the same effect.\n",
      "\n",
      "  sns.barplot(\n",
      "/accounts/grad/czye/GPN/gpn/analysis/gpn-star/train_and_eval/workflow/notebooks/plot.py:293: FutureWarning: \n",
      "\n",
      "Passing `palette` without assigning `hue` is deprecated and will be removed in v0.14.0. Assign the `x` variable to `hue` and set `legend=False` for the same effect.\n",
      "\n",
      "  sns.barplot(\n",
      "/accounts/grad/czye/GPN/gpn/analysis/gpn-star/train_and_eval/workflow/notebooks/plot.py:293: FutureWarning: \n",
      "\n",
      "Passing `palette` without assigning `hue` is deprecated and will be removed in v0.14.0. Assign the `x` variable to `hue` and set `legend=False` for the same effect.\n",
      "\n",
      "  sns.barplot(\n",
      "/accounts/grad/czye/GPN/gpn/analysis/gpn-star/train_and_eval/workflow/notebooks/plot.py:293: FutureWarning: \n",
      "\n",
      "Passing `palette` without assigning `hue` is deprecated and will be removed in v0.14.0. Assign the `x` variable to `hue` and set `legend=False` for the same effect.\n",
      "\n",
      "  sns.barplot(\n",
      "/accounts/grad/czye/GPN/gpn/analysis/gpn-star/train_and_eval/workflow/notebooks/plot.py:293: FutureWarning: \n",
      "\n",
      "Passing `palette` without assigning `hue` is deprecated and will be removed in v0.14.0. Assign the `x` variable to `hue` and set `legend=False` for the same effect.\n",
      "\n",
      "  sns.barplot(\n",
      "/accounts/grad/czye/GPN/gpn/analysis/gpn-star/train_and_eval/workflow/notebooks/plot.py:373: UserWarning: This figure includes Axes that are not compatible with tight_layout, so results might be incorrect.\n",
      "  fig.tight_layout(h_pad=0.1, rect=[0, 0, right_margin, suptitle_y])\n"
     ]
    },
    {
     "data": {
      "image/png": "[encoded data removed]",
      "text/plain": [
       "<Figure size 130x765 with 9 Axes>"
      ]
     },
     "metadata": {},
     "output_type": "display_data"
    }
   ],
   "source": [
    "barplot_vertical_aligned(\n",
    "    results_caendr[(results_caendr.n==30) & (results_caendr.p_value < 0.05)],\n",
    "    metric=\"Odds ratio\",\n",
    "    title=r\"$\\bf{\\sf{CaeNDR}}$\" + \"\\nrare vs. common\\n(by consequence)\",\n",
    "    palette=palette,\n",
    "    width=1.3,\n",
    "    height=0.85,\n",
    "    hspace=0.5,\n",
    "    suptitle_y=0.98,\n",
    "    model_order=['GPN-Star', 'PhyloP', 'PhastCons',],\n",
    "    group_order=['missense', 'synonymous', 'splice-region', \"5' UTR\", \"3' UTR\", 'intron', 'upstream-of-gene', 'downstream-of-gene', 'intergenic'],\n",
    ")\n"
   ]
  },
  {
   "cell_type": "markdown",
   "id": "4a2e60c9",
   "metadata": {},
   "source": [
    "# C. elegans lethal mutations"
   ]
  },
  {
   "cell_type": "code",
   "execution_count": 13,
   "id": "da0aab47",
   "metadata": {},
   "outputs": [
    {
     "name": "stderr",
     "output_type": "stream",
     "text": [
      "Fetching 6 files: 100%|██████████| 6/6 [00:01<00:00,  5.28it/s]\n"
     ]
    },
    {
     "data": {
      "text/plain": [
       "'/accounts/grad/czye/GPN/gpn/analysis/gpn-star/train_and_eval/workflow/notebooks/tmp/celegans_lethal'"
      ]
     },
     "execution_count": 13,
     "metadata": {},
     "output_type": "execute_result"
    }
   ],
   "source": [
    "snapshot_download(repo_id=\"songlab/celegans_lethal\", local_dir=f\"{WORK_DIR}/celegans_lethal\", repo_type=\"dataset\")"
   ]
  },
  {
   "cell_type": "code",
   "execution_count": 14,
   "id": "b3d6beeb",
   "metadata": {},
   "outputs": [
    {
     "data": {
      "text/html": [
       "<div>\n",
       "<style scoped>\n",
       "    .dataframe tbody tr th:only-of-type {\n",
       "        vertical-align: middle;\n",
       "    }\n",
       "\n",
       "    .dataframe tbody tr th {\n",
       "        vertical-align: top;\n",
       "    }\n",
       "\n",
       "    .dataframe thead th {\n",
       "        text-align: right;\n",
       "    }\n",
       "</style>\n",
       "<table border=\"1\" class=\"dataframe\">\n",
       "  <thead>\n",
       "    <tr style=\"text-align: right;\">\n",
       "      <th></th>\n",
       "      <th>chrom</th>\n",
       "      <th>pos</th>\n",
       "      <th>ref</th>\n",
       "      <th>alt</th>\n",
       "      <th>consequence</th>\n",
       "      <th>label</th>\n",
       "      <th>PhyloP</th>\n",
       "      <th>PhastCons</th>\n",
       "      <th>GPN-Star</th>\n",
       "    </tr>\n",
       "  </thead>\n",
       "  <tbody>\n",
       "    <tr>\n",
       "      <th>0</th>\n",
       "      <td>III</td>\n",
       "      <td>7359885</td>\n",
       "      <td>G</td>\n",
       "      <td>A</td>\n",
       "      <td>nonsense</td>\n",
       "      <td>True</td>\n",
       "      <td>4.558</td>\n",
       "      <td>1.000</td>\n",
       "      <td>-8.100762</td>\n",
       "    </tr>\n",
       "    <tr>\n",
       "      <th>1</th>\n",
       "      <td>III</td>\n",
       "      <td>7360261</td>\n",
       "      <td>C</td>\n",
       "      <td>T</td>\n",
       "      <td>missense</td>\n",
       "      <td>True</td>\n",
       "      <td>20.000</td>\n",
       "      <td>1.000</td>\n",
       "      <td>-9.008378</td>\n",
       "    </tr>\n",
       "    <tr>\n",
       "      <th>2</th>\n",
       "      <td>III</td>\n",
       "      <td>8169268</td>\n",
       "      <td>G</td>\n",
       "      <td>A</td>\n",
       "      <td>nonsense</td>\n",
       "      <td>True</td>\n",
       "      <td>20.000</td>\n",
       "      <td>1.000</td>\n",
       "      <td>-11.086087</td>\n",
       "    </tr>\n",
       "    <tr>\n",
       "      <th>3</th>\n",
       "      <td>III</td>\n",
       "      <td>8166973</td>\n",
       "      <td>G</td>\n",
       "      <td>A</td>\n",
       "      <td>nonsense</td>\n",
       "      <td>True</td>\n",
       "      <td>20.000</td>\n",
       "      <td>1.000</td>\n",
       "      <td>-10.436231</td>\n",
       "    </tr>\n",
       "    <tr>\n",
       "      <th>4</th>\n",
       "      <td>III</td>\n",
       "      <td>4943615</td>\n",
       "      <td>C</td>\n",
       "      <td>T</td>\n",
       "      <td>missense</td>\n",
       "      <td>True</td>\n",
       "      <td>20.000</td>\n",
       "      <td>1.000</td>\n",
       "      <td>-9.713968</td>\n",
       "    </tr>\n",
       "    <tr>\n",
       "      <th>...</th>\n",
       "      <td>...</td>\n",
       "      <td>...</td>\n",
       "      <td>...</td>\n",
       "      <td>...</td>\n",
       "      <td>...</td>\n",
       "      <td>...</td>\n",
       "      <td>...</td>\n",
       "      <td>...</td>\n",
       "      <td>...</td>\n",
       "    </tr>\n",
       "    <tr>\n",
       "      <th>22178</th>\n",
       "      <td>X</td>\n",
       "      <td>17560245</td>\n",
       "      <td>A</td>\n",
       "      <td>T</td>\n",
       "      <td>missense</td>\n",
       "      <td>False</td>\n",
       "      <td>2.599</td>\n",
       "      <td>1.000</td>\n",
       "      <td>11.233121</td>\n",
       "    </tr>\n",
       "    <tr>\n",
       "      <th>22179</th>\n",
       "      <td>X</td>\n",
       "      <td>17651542</td>\n",
       "      <td>T</td>\n",
       "      <td>C</td>\n",
       "      <td>missense</td>\n",
       "      <td>False</td>\n",
       "      <td>2.414</td>\n",
       "      <td>0.967</td>\n",
       "      <td>4.859400</td>\n",
       "    </tr>\n",
       "    <tr>\n",
       "      <th>22180</th>\n",
       "      <td>X</td>\n",
       "      <td>17651562</td>\n",
       "      <td>T</td>\n",
       "      <td>A</td>\n",
       "      <td>missense</td>\n",
       "      <td>False</td>\n",
       "      <td>3.552</td>\n",
       "      <td>1.000</td>\n",
       "      <td>-8.062285</td>\n",
       "    </tr>\n",
       "    <tr>\n",
       "      <th>22181</th>\n",
       "      <td>X</td>\n",
       "      <td>17718438</td>\n",
       "      <td>C</td>\n",
       "      <td>T</td>\n",
       "      <td>missense</td>\n",
       "      <td>False</td>\n",
       "      <td>-0.038</td>\n",
       "      <td>0.997</td>\n",
       "      <td>0.951009</td>\n",
       "    </tr>\n",
       "    <tr>\n",
       "      <th>22182</th>\n",
       "      <td>X</td>\n",
       "      <td>17718576</td>\n",
       "      <td>C</td>\n",
       "      <td>A</td>\n",
       "      <td>missense</td>\n",
       "      <td>False</td>\n",
       "      <td>-0.274</td>\n",
       "      <td>0.000</td>\n",
       "      <td>0.230911</td>\n",
       "    </tr>\n",
       "  </tbody>\n",
       "</table>\n",
       "<p>22255 rows × 9 columns</p>\n",
       "</div>"
      ],
      "text/plain": [
       "      chrom       pos ref alt consequence  label  PhyloP  PhastCons   GPN-Star\n",
       "0       III   7359885   G   A    nonsense   True   4.558      1.000  -8.100762\n",
       "1       III   7360261   C   T    missense   True  20.000      1.000  -9.008378\n",
       "2       III   8169268   G   A    nonsense   True  20.000      1.000 -11.086087\n",
       "3       III   8166973   G   A    nonsense   True  20.000      1.000 -10.436231\n",
       "4       III   4943615   C   T    missense   True  20.000      1.000  -9.713968\n",
       "...     ...       ...  ..  ..         ...    ...     ...        ...        ...\n",
       "22178     X  17560245   A   T    missense  False   2.599      1.000  11.233121\n",
       "22179     X  17651542   T   C    missense  False   2.414      0.967   4.859400\n",
       "22180     X  17651562   T   A    missense  False   3.552      1.000  -8.062285\n",
       "22181     X  17718438   C   T    missense  False  -0.038      0.997   0.951009\n",
       "22182     X  17718576   C   A    missense  False  -0.274      0.000   0.230911\n",
       "\n",
       "[22255 rows x 9 columns]"
      ]
     },
     "execution_count": 14,
     "metadata": {},
     "output_type": "execute_result"
    }
   ],
   "source": [
    "V_lethal = pd.read_parquet(f'{WORK_DIR}/celegans_lethal/test.parquet')\n",
    "\n",
    "for m in genome_wide_veps + gpn_star_models:\n",
    "    V_lethal[m] = pd.read_parquet(f'{WORK_DIR}/celegans_lethal/predictions/{m}.parquet')\n",
    "V_lethal"
   ]
  },
  {
   "cell_type": "code",
   "execution_count": 15,
   "id": "11fc972c",
   "metadata": {},
   "outputs": [
    {
     "name": "stdout",
     "output_type": "stream",
     "text": [
      "Calculating AUROC and AUPRC with 1000 bootstraps...\n"
     ]
    },
    {
     "name": "stderr",
     "output_type": "stream",
     "text": [
      "models: 100%|██████████| 3/3 [00:29<00:00,  9.70s/it]\n"
     ]
    },
    {
     "data": {
      "text/html": [
       "<div>\n",
       "<style scoped>\n",
       "    .dataframe tbody tr th:only-of-type {\n",
       "        vertical-align: middle;\n",
       "    }\n",
       "\n",
       "    .dataframe tbody tr th {\n",
       "        vertical-align: top;\n",
       "    }\n",
       "\n",
       "    .dataframe thead th {\n",
       "        text-align: right;\n",
       "    }\n",
       "</style>\n",
       "<table border=\"1\" class=\"dataframe\">\n",
       "  <thead>\n",
       "    <tr style=\"text-align: right;\">\n",
       "      <th></th>\n",
       "      <th>Model</th>\n",
       "      <th>AUROC</th>\n",
       "      <th>AUPRC</th>\n",
       "      <th>AUROC_se</th>\n",
       "      <th>AUPRC_se</th>\n",
       "    </tr>\n",
       "  </thead>\n",
       "  <tbody>\n",
       "    <tr>\n",
       "      <th>2</th>\n",
       "      <td>GPN-Star</td>\n",
       "      <td>0.990474</td>\n",
       "      <td>0.727862</td>\n",
       "      <td>0.006196</td>\n",
       "      <td>0.053063</td>\n",
       "    </tr>\n",
       "    <tr>\n",
       "      <th>0</th>\n",
       "      <td>PhyloP</td>\n",
       "      <td>0.949954</td>\n",
       "      <td>0.268858</td>\n",
       "      <td>0.015553</td>\n",
       "      <td>0.040208</td>\n",
       "    </tr>\n",
       "    <tr>\n",
       "      <th>1</th>\n",
       "      <td>PhastCons</td>\n",
       "      <td>0.893505</td>\n",
       "      <td>0.023937</td>\n",
       "      <td>0.019754</td>\n",
       "      <td>0.001735</td>\n",
       "    </tr>\n",
       "  </tbody>\n",
       "</table>\n",
       "</div>"
      ],
      "text/plain": [
       "       Model     AUROC     AUPRC  AUROC_se  AUPRC_se\n",
       "2   GPN-Star  0.990474  0.727862  0.006196  0.053063\n",
       "0     PhyloP  0.949954  0.268858  0.015553  0.040208\n",
       "1  PhastCons  0.893505  0.023937  0.019754  0.001735"
      ]
     },
     "execution_count": 15,
     "metadata": {},
     "output_type": "execute_result"
    }
   ],
   "source": [
    "all_models = genome_wide_veps + gpn_star_models\n",
    "rows = []\n",
    "V_lethal_c = V_lethal.copy()\n",
    "V_lethal_c.dropna(subset=all_models, inplace=True)\n",
    "V_lethal_c.reset_index(drop=True, inplace=True)\n",
    "n_pos, n_neg = (V_lethal_c.label==True).sum(), (V_lethal_c.label==False).sum()\n",
    "pos_prop = n_pos/(n_pos+n_neg)\n",
    "\n",
    "print(\"Calculating AUROC and AUPRC with 1000 bootstraps...\")\n",
    "for m in tqdm(all_models, desc='models'):\n",
    "    if m in gpn_star_models:\n",
    "        AUROC = roc_auc_score(V_lethal_c.label==True, -V_lethal_c[m])\n",
    "        AUPRC = average_precision_score(V_lethal_c.label==True, -V_lethal_c[m])\n",
    "        AUROC_se, AUPRC_se = stratified_bootstrap_se(V_lethal_c.label==True, -V_lethal_c[m])\n",
    "    else:\n",
    "        AUROC = roc_auc_score(V_lethal_c.label==True, V_lethal_c[m])\n",
    "        AUPRC = average_precision_score(V_lethal_c.label==True, V_lethal_c[m])\n",
    "        AUROC_se, AUPRC_se = stratified_bootstrap_se(V_lethal_c.label==True, V_lethal_c[m])\n",
    "    rows.append([m, AUROC, AUPRC, AUROC_se, AUPRC_se])\n",
    "results = pd.DataFrame(rows, columns=[\"Model\", \"AUROC\", \"AUPRC\", \"AUROC_se\", \"AUPRC_se\"])\n",
    "results = results.sort_values('AUPRC', ascending = False)\n",
    "results"
   ]
  },
  {
   "cell_type": "code",
   "execution_count": 16,
   "id": "e59ff30c",
   "metadata": {},
   "outputs": [
    {
     "name": "stderr",
     "output_type": "stream",
     "text": [
      "/accounts/grad/czye/GPN/gpn/analysis/gpn-star/train_and_eval/workflow/notebooks/plot.py:64: FutureWarning: \n",
      "\n",
      "Passing `palette` without assigning `hue` is deprecated and will be removed in v0.14.0. Assign the `y` variable to `hue` and set `legend=False` for the same effect.\n",
      "\n",
      "  sns.barplot(\n"
     ]
    },
    {
     "data": {
      "image/png": "[encoded data removed]",
      "text/plain": [
       "<Figure size 200x150 with 1 Axes>"
      ]
     },
     "metadata": {},
     "output_type": "display_data"
    }
   ],
   "source": [
    "barplot(\n",
    "    results,\n",
    "    \"AUPRC\",\n",
    "    pos_prop = pos_prop,\n",
    "    palette = palette,\n",
    "    figsize=(2,1.5),\n",
    "    title = r'$\\it{C.\\ elegans\\ }$' + f\"\\nlethal vs. common\\nn={n_pos} vs. {n_neg}\",\n",
    ")"
   ]
  },
  {
   "cell_type": "code",
   "execution_count": null,
   "id": "cad27de1",
   "metadata": {},
   "outputs": [],
   "source": []
  }
 ],
 "metadata": {
  "kernelspec": {
   "display_name": "gpn_star",
   "language": "python",
   "name": "python3"
  },
  "language_info": {
   "codemirror_mode": {
    "name": "ipython",
    "version": 3
   },
   "file_extension": ".py",
   "mimetype": "text/x-python",
   "name": "python",
   "nbconvert_exporter": "python",
   "pygments_lexer": "ipython3",
   "version": "3.10.18"
  }
 },
 "nbformat": 4,
 "nbformat_minor": 5
}
