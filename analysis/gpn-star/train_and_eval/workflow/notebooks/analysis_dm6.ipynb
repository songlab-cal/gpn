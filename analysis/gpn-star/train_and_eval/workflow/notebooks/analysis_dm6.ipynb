{
 "cells": [
  {
   "cell_type": "markdown",
   "id": "4c807faf",
   "metadata": {},
   "source": [
    "# Import and Define"
   ]
  },
  {
   "cell_type": "code",
   "execution_count": 1,
   "id": "62e45219",
   "metadata": {},
   "outputs": [
    {
     "name": "stderr",
     "output_type": "stream",
     "text": [
      "/accounts/grad/czye/conda/envs/gpn_env/envs/gpn_star/lib/python3.10/site-packages/tqdm/auto.py:21: TqdmWarning: IProgress not found. Please update jupyter and ipywidgets. See https://ipywidgets.readthedocs.io/en/stable/user_install.html\n",
      "  from .autonotebook import tqdm as notebook_tqdm\n"
     ]
    }
   ],
   "source": [
    "from plot import *\n",
    "import numpy as np\n",
    "import pandas as pd\n",
    "import polars as pl\n",
    "from huggingface_hub import hf_hub_download, snapshot_download\n",
    "\n",
    "from scipy.stats import spearmanr\n",
    "from sklearn.metrics import roc_auc_score, precision_recall_curve, auc, RocCurveDisplay, average_precision_score, PrecisionRecallDisplay\n",
    "from tqdm import tqdm\n",
    "tqdm.pandas()"
   ]
  },
  {
   "cell_type": "code",
   "execution_count": 2,
   "id": "c27bca8d",
   "metadata": {},
   "outputs": [],
   "source": [
    "palette = {\n",
    "    'GPN-Star': \"#2773BA\",\n",
    "    'PhyloP': '#9E66BA', \n",
    "    'PhastCons': '#C4494B',\n",
    "}"
   ]
  },
  {
   "cell_type": "code",
   "execution_count": 3,
   "id": "83b7e2cb",
   "metadata": {},
   "outputs": [],
   "source": [
    "# model groups\n",
    "\n",
    "gpn_star_models = [\n",
    "    'GPN-Star'\n",
    "]\n",
    "\n",
    "genome_wide_veps = [\n",
    "    'PhyloP',\n",
    "    'PhastCons',\n",
    "]"
   ]
  },
  {
   "cell_type": "code",
   "execution_count": 4,
   "id": "1695343d",
   "metadata": {},
   "outputs": [],
   "source": [
    "WORK_DIR = 'tmp/'"
   ]
  },
  {
   "cell_type": "markdown",
   "id": "2d5de0f3",
   "metadata": {},
   "source": [
    "# DEST rare vs. common enrichment"
   ]
  },
  {
   "cell_type": "code",
   "execution_count": 5,
   "id": "d0954ce5",
   "metadata": {},
   "outputs": [
    {
     "name": "stderr",
     "output_type": "stream",
     "text": [
      "Fetching 6 files: 100%|██████████| 6/6 [00:01<00:00,  3.42it/s]\n"
     ]
    },
    {
     "data": {
      "text/plain": [
       "'/accounts/grad/czye/GPN/gpn/analysis/gpn-star/train_and_eval/workflow/notebooks/tmp/dest'"
      ]
     },
     "execution_count": 5,
     "metadata": {},
     "output_type": "execute_result"
    }
   ],
   "source": [
    "snapshot_download(repo_id=\"songlab/dest\", local_dir=f\"{WORK_DIR}/dest\", repo_type=\"dataset\")"
   ]
  },
  {
   "cell_type": "code",
   "execution_count": 6,
   "id": "cff691fb",
   "metadata": {},
   "outputs": [],
   "source": [
    "V_dest = pd.read_parquet(f'{WORK_DIR}/dest/test.parquet')\n",
    "\n",
    "all_models = genome_wide_veps + gpn_star_models\n",
    "for m in all_models:\n",
    "    V_dest[m] = pd.read_parquet(f'{WORK_DIR}/dest/predictions/{m}.parquet')"
   ]
  },
  {
   "cell_type": "code",
   "execution_count": 7,
   "id": "4d0c5e2d",
   "metadata": {},
   "outputs": [
    {
     "data": {
      "text/html": [
       "<div><style>\n",
       ".dataframe > thead > tr,\n",
       ".dataframe > tbody > tr {\n",
       "  text-align: right;\n",
       "  white-space: pre-wrap;\n",
       "}\n",
       "</style>\n",
       "<small>shape: (1_093_340, 10)</small><table border=\"1\" class=\"dataframe\"><thead><tr><th>chrom</th><th>pos</th><th>ref</th><th>alt</th><th>AF</th><th>consequence</th><th>label</th><th>PhyloP</th><th>PhastCons</th><th>GPN-Star</th></tr><tr><td>str</td><td>i64</td><td>str</td><td>str</td><td>f64</td><td>str</td><td>bool</td><td>f64</td><td>f64</td><td>f64</td></tr></thead><tbody><tr><td>&quot;2L&quot;</td><td>5762</td><td>&quot;T&quot;</td><td>&quot;C&quot;</td><td>0.298266</td><td>&quot;intergenic&quot;</td><td>false</td><td>null</td><td>null</td><td>0.995839</td></tr><tr><td>&quot;2L&quot;</td><td>6353</td><td>&quot;C&quot;</td><td>&quot;T&quot;</td><td>0.563833</td><td>&quot;intergenic&quot;</td><td>false</td><td>0.439</td><td>0.992</td><td>0.684266</td></tr><tr><td>&quot;2L&quot;</td><td>6631</td><td>&quot;A&quot;</td><td>&quot;G&quot;</td><td>0.262617</td><td>&quot;upstream_gene&quot;</td><td>false</td><td>-0.619</td><td>0.041</td><td>0.629686</td></tr><tr><td>&quot;2L&quot;</td><td>6690</td><td>&quot;C&quot;</td><td>&quot;G&quot;</td><td>0.220744</td><td>&quot;upstream_gene&quot;</td><td>false</td><td>-1.026</td><td>0.003</td><td>1.430253</td></tr><tr><td>&quot;2L&quot;</td><td>6921</td><td>&quot;G&quot;</td><td>&quot;T&quot;</td><td>0.252886</td><td>&quot;upstream_gene&quot;</td><td>false</td><td>0.227</td><td>0.988</td><td>0.67003</td></tr><tr><td>&hellip;</td><td>&hellip;</td><td>&hellip;</td><td>&hellip;</td><td>&hellip;</td><td>&hellip;</td><td>&hellip;</td><td>&hellip;</td><td>&hellip;</td><td>&hellip;</td></tr><tr><td>&quot;Y&quot;</td><td>3657159</td><td>&quot;A&quot;</td><td>&quot;G&quot;</td><td>0.337791</td><td>&quot;intron&quot;</td><td>false</td><td>1.545</td><td>0.002</td><td>2.160893</td></tr><tr><td>&quot;Y&quot;</td><td>3657194</td><td>&quot;A&quot;</td><td>&quot;T&quot;</td><td>0.329693</td><td>&quot;intron&quot;</td><td>false</td><td>-0.617</td><td>0.0</td><td>3.15511</td></tr><tr><td>&quot;Y&quot;</td><td>3657203</td><td>&quot;A&quot;</td><td>&quot;C&quot;</td><td>0.33839</td><td>&quot;intron&quot;</td><td>false</td><td>-3.541</td><td>0.0</td><td>1.635296</td></tr><tr><td>&quot;Y&quot;</td><td>3657248</td><td>&quot;T&quot;</td><td>&quot;A&quot;</td><td>0.345347</td><td>&quot;intron&quot;</td><td>false</td><td>-0.011</td><td>0.955</td><td>-0.781958</td></tr><tr><td>&quot;Y&quot;</td><td>3657258</td><td>&quot;G&quot;</td><td>&quot;T&quot;</td><td>0.334125</td><td>&quot;intron&quot;</td><td>false</td><td>-0.127</td><td>0.909</td><td>0.901788</td></tr></tbody></table></div>"
      ],
      "text/plain": [
       "shape: (1_093_340, 10)\n",
       "┌───────┬─────────┬─────┬─────┬───┬───────┬────────┬───────────┬───────────┐\n",
       "│ chrom ┆ pos     ┆ ref ┆ alt ┆ … ┆ label ┆ PhyloP ┆ PhastCons ┆ GPN-Star  │\n",
       "│ ---   ┆ ---     ┆ --- ┆ --- ┆   ┆ ---   ┆ ---    ┆ ---       ┆ ---       │\n",
       "│ str   ┆ i64     ┆ str ┆ str ┆   ┆ bool  ┆ f64    ┆ f64       ┆ f64       │\n",
       "╞═══════╪═════════╪═════╪═════╪═══╪═══════╪════════╪═══════════╪═══════════╡\n",
       "│ 2L    ┆ 5762    ┆ T   ┆ C   ┆ … ┆ false ┆ null   ┆ null      ┆ 0.995839  │\n",
       "│ 2L    ┆ 6353    ┆ C   ┆ T   ┆ … ┆ false ┆ 0.439  ┆ 0.992     ┆ 0.684266  │\n",
       "│ 2L    ┆ 6631    ┆ A   ┆ G   ┆ … ┆ false ┆ -0.619 ┆ 0.041     ┆ 0.629686  │\n",
       "│ 2L    ┆ 6690    ┆ C   ┆ G   ┆ … ┆ false ┆ -1.026 ┆ 0.003     ┆ 1.430253  │\n",
       "│ 2L    ┆ 6921    ┆ G   ┆ T   ┆ … ┆ false ┆ 0.227  ┆ 0.988     ┆ 0.67003   │\n",
       "│ …     ┆ …       ┆ …   ┆ …   ┆ … ┆ …     ┆ …      ┆ …         ┆ …         │\n",
       "│ Y     ┆ 3657159 ┆ A   ┆ G   ┆ … ┆ false ┆ 1.545  ┆ 0.002     ┆ 2.160893  │\n",
       "│ Y     ┆ 3657194 ┆ A   ┆ T   ┆ … ┆ false ┆ -0.617 ┆ 0.0       ┆ 3.15511   │\n",
       "│ Y     ┆ 3657203 ┆ A   ┆ C   ┆ … ┆ false ┆ -3.541 ┆ 0.0       ┆ 1.635296  │\n",
       "│ Y     ┆ 3657248 ┆ T   ┆ A   ┆ … ┆ false ┆ -0.011 ┆ 0.955     ┆ -0.781958 │\n",
       "│ Y     ┆ 3657258 ┆ G   ┆ T   ┆ … ┆ false ┆ -0.127 ┆ 0.909     ┆ 0.901788  │\n",
       "└───────┴─────────┴─────┴─────┴───┴───────┴────────┴───────────┴───────────┘"
      ]
     },
     "execution_count": 7,
     "metadata": {},
     "output_type": "execute_result"
    }
   ],
   "source": [
    "V_dest = pl.from_pandas(V_dest) # compute in polars for efficiency\n",
    "V_dest"
   ]
  },
  {
   "cell_type": "code",
   "execution_count": 8,
   "id": "3618c981",
   "metadata": {},
   "outputs": [
    {
     "name": "stderr",
     "output_type": "stream",
     "text": [
      "  0%|          | 0/15 [00:00<?, ?it/s]"
     ]
    },
    {
     "name": "stderr",
     "output_type": "stream",
     "text": [
      "100%|██████████| 15/15 [00:00<00:00, 44.31it/s]\n"
     ]
    },
    {
     "data": {
      "text/html": [
       "<div>\n",
       "<style scoped>\n",
       "    .dataframe tbody tr th:only-of-type {\n",
       "        vertical-align: middle;\n",
       "    }\n",
       "\n",
       "    .dataframe tbody tr th {\n",
       "        vertical-align: top;\n",
       "    }\n",
       "\n",
       "    .dataframe thead th {\n",
       "        text-align: right;\n",
       "    }\n",
       "</style>\n",
       "<table border=\"1\" class=\"dataframe\">\n",
       "  <thead>\n",
       "    <tr style=\"text-align: right;\">\n",
       "      <th></th>\n",
       "      <th>n</th>\n",
       "      <th>Odds ratio</th>\n",
       "      <th>p_value</th>\n",
       "      <th>Consequence</th>\n",
       "      <th>Model</th>\n",
       "      <th>n_pos</th>\n",
       "      <th>n_neg</th>\n",
       "    </tr>\n",
       "  </thead>\n",
       "  <tbody>\n",
       "    <tr>\n",
       "      <th>0</th>\n",
       "      <td>30</td>\n",
       "      <td>2.998124</td>\n",
       "      <td>4.079891e-07</td>\n",
       "      <td>non_coding_transcript_exon</td>\n",
       "      <td>PhyloP</td>\n",
       "      <td>7828</td>\n",
       "      <td>12930</td>\n",
       "    </tr>\n",
       "    <tr>\n",
       "      <th>1</th>\n",
       "      <td>30</td>\n",
       "      <td>3.537205</td>\n",
       "      <td>8.681643e-266</td>\n",
       "      <td>non_coding_transcript_exon</td>\n",
       "      <td>PhastCons</td>\n",
       "      <td>7828</td>\n",
       "      <td>12930</td>\n",
       "    </tr>\n",
       "    <tr>\n",
       "      <th>2</th>\n",
       "      <td>30</td>\n",
       "      <td>34.291161</td>\n",
       "      <td>5.266599e-213</td>\n",
       "      <td>non_coding_transcript_exon</td>\n",
       "      <td>GPN-Star</td>\n",
       "      <td>7828</td>\n",
       "      <td>12930</td>\n",
       "    </tr>\n",
       "    <tr>\n",
       "      <th>3</th>\n",
       "      <td>30</td>\n",
       "      <td>2.379200</td>\n",
       "      <td>2.397734e-03</td>\n",
       "      <td>synonymous</td>\n",
       "      <td>PhyloP</td>\n",
       "      <td>28700</td>\n",
       "      <td>100756</td>\n",
       "    </tr>\n",
       "    <tr>\n",
       "      <th>4</th>\n",
       "      <td>30</td>\n",
       "      <td>1.123226</td>\n",
       "      <td>7.344716e-11</td>\n",
       "      <td>synonymous</td>\n",
       "      <td>PhastCons</td>\n",
       "      <td>28700</td>\n",
       "      <td>100756</td>\n",
       "    </tr>\n",
       "  </tbody>\n",
       "</table>\n",
       "</div>"
      ],
      "text/plain": [
       "    n  Odds ratio        p_value                 Consequence      Model  \\\n",
       "0  30    2.998124   4.079891e-07  non_coding_transcript_exon     PhyloP   \n",
       "1  30    3.537205  8.681643e-266  non_coding_transcript_exon  PhastCons   \n",
       "2  30   34.291161  5.266599e-213  non_coding_transcript_exon   GPN-Star   \n",
       "3  30    2.379200   2.397734e-03                  synonymous     PhyloP   \n",
       "4  30    1.123226   7.344716e-11                  synonymous  PhastCons   \n",
       "\n",
       "   n_pos   n_neg  \n",
       "0   7828   12930  \n",
       "1   7828   12930  \n",
       "2   7828   12930  \n",
       "3  28700  100756  \n",
       "4  28700  100756  "
      ]
     },
     "execution_count": 8,
     "metadata": {},
     "output_type": "execute_result"
    }
   ],
   "source": [
    "results_dest = []\n",
    "for c in tqdm(V_dest['consequence'].unique().to_list()+['all']):\n",
    "    if c != 'all' and (V_dest['consequence']==c).sum() < 500:\n",
    "        continue\n",
    "    df_c = V_dest.clone() if c == \"all\" else V_dest.filter(pl.col(\"consequence\") == c)\n",
    "    df_c = df_c.drop_nulls(subset=all_models)\n",
    "    n_pos, n_neg = df_c[\"label\"].sum(), (~df_c[\"label\"]).sum()\n",
    "    for m in all_models:\n",
    "        try:\n",
    "            if m not in gpn_star_models:\n",
    "                # Fix: Apply negation to the score column instead of the DataFrame\n",
    "                selected_df = df_c.select([\"label\", pl.col(m).alias(\"score\")])\n",
    "                selected_df = selected_df.with_columns(pl.col(\"score\") * -1)\n",
    "                odds_ratio = (\n",
    "                    get_odds_ratio(selected_df, [30])\n",
    "                    .with_columns(\n",
    "                        Consequence=pl.lit(c), Model=pl.lit(m),\n",
    "                        n_pos=pl.lit(n_pos), n_neg=pl.lit(n_neg),\n",
    "                    )\n",
    "                )\n",
    "                results_dest.append(odds_ratio)\n",
    "            else:\n",
    "                odds_ratio = (\n",
    "                    get_odds_ratio(df_c.select([\"label\", pl.col(m).alias(\"score\")]), [30])\n",
    "                    .with_columns(\n",
    "                        Consequence=pl.lit(c), Model=pl.lit(m),\n",
    "                        n_pos=pl.lit(n_pos), n_neg=pl.lit(n_neg),\n",
    "                    )\n",
    "                )\n",
    "                results_dest.append(odds_ratio)\n",
    "        except:\n",
    "            pass\n",
    "\n",
    "results_dest = pl.concat(results_dest).to_pandas()\n",
    "results_dest.head()"
   ]
  },
  {
   "cell_type": "code",
   "execution_count": 10,
   "id": "60ab5c4d",
   "metadata": {},
   "outputs": [],
   "source": [
    "replacements = {\n",
    "    \"5_prime_UTR\": \"5' UTR\",\n",
    "    \"3_prime_UTR\": \"3' UTR\",\n",
    "    \"upstream_gene\": \"upstream-of-gene\",\n",
    "    \"downstream_gene\": \"downstream-of-gene\",\n",
    "    \"splice_region\": \"splice-region\",\n",
    "    \"start_or_stop\": \"start-or-stop\",\n",
    "}\n",
    "results_dest['Consequence'] = results_dest['Consequence'].replace(replacements)"
   ]
  },
  {
   "cell_type": "code",
   "execution_count": 11,
   "id": "d45b28ae",
   "metadata": {},
   "outputs": [],
   "source": [
    "results_dest = results_dest.sort_values('Odds ratio', ascending = False)"
   ]
  },
  {
   "cell_type": "code",
   "execution_count": 13,
   "id": "f708440b",
   "metadata": {},
   "outputs": [
    {
     "name": "stderr",
     "output_type": "stream",
     "text": [
      "/accounts/grad/czye/GPN/gpn/analysis/gpn-star/train_and_eval/workflow/notebooks/plot.py:414: FutureWarning: \n",
      "\n",
      "Passing `palette` without assigning `hue` is deprecated and will be removed in v0.14.0. Assign the `x` variable to `hue` and set `legend=False` for the same effect.\n",
      "\n",
      "  g = sns.barplot(\n"
     ]
    },
    {
     "data": {
      "image/png": "[encoded data removed]",
      "text/plain": [
       "<Figure size 120x160 with 1 Axes>"
      ]
     },
     "metadata": {},
     "output_type": "display_data"
    }
   ],
   "source": [
    "barplot_vertical(\n",
    "    results_dest[\n",
    "        (results_dest.p_value < 0.05) &\n",
    "        (results_dest.Consequence == \"all\")\n",
    "    ],\n",
    "    \"Odds ratio\",\n",
    "    r\"$\\bf{\\sf{DEST}}$\" + \"\\nrare vs. common\",\n",
    "    y=1.35, width=1.2, height=1.6,\n",
    "    palette=palette,\n",
    ")"
   ]
  },
  {
   "cell_type": "code",
   "execution_count": 14,
   "id": "839fe31c",
   "metadata": {},
   "outputs": [
    {
     "name": "stderr",
     "output_type": "stream",
     "text": [
      "/accounts/grad/czye/GPN/gpn/analysis/gpn-star/train_and_eval/workflow/notebooks/plot.py:293: FutureWarning: \n",
      "\n",
      "Passing `palette` without assigning `hue` is deprecated and will be removed in v0.14.0. Assign the `x` variable to `hue` and set `legend=False` for the same effect.\n",
      "\n",
      "  sns.barplot(\n",
      "/accounts/grad/czye/GPN/gpn/analysis/gpn-star/train_and_eval/workflow/notebooks/plot.py:293: FutureWarning: \n",
      "\n",
      "Passing `palette` without assigning `hue` is deprecated and will be removed in v0.14.0. Assign the `x` variable to `hue` and set `legend=False` for the same effect.\n",
      "\n",
      "  sns.barplot(\n",
      "/accounts/grad/czye/GPN/gpn/analysis/gpn-star/train_and_eval/workflow/notebooks/plot.py:293: FutureWarning: \n",
      "\n",
      "Passing `palette` without assigning `hue` is deprecated and will be removed in v0.14.0. Assign the `x` variable to `hue` and set `legend=False` for the same effect.\n",
      "\n",
      "  sns.barplot(\n",
      "/accounts/grad/czye/GPN/gpn/analysis/gpn-star/train_and_eval/workflow/notebooks/plot.py:293: FutureWarning: \n",
      "\n",
      "Passing `palette` without assigning `hue` is deprecated and will be removed in v0.14.0. Assign the `x` variable to `hue` and set `legend=False` for the same effect.\n",
      "\n",
      "  sns.barplot(\n",
      "/accounts/grad/czye/GPN/gpn/analysis/gpn-star/train_and_eval/workflow/notebooks/plot.py:293: FutureWarning: \n",
      "\n",
      "Passing `palette` without assigning `hue` is deprecated and will be removed in v0.14.0. Assign the `x` variable to `hue` and set `legend=False` for the same effect.\n",
      "\n",
      "  sns.barplot(\n",
      "/accounts/grad/czye/GPN/gpn/analysis/gpn-star/train_and_eval/workflow/notebooks/plot.py:293: FutureWarning: \n",
      "\n",
      "Passing `palette` without assigning `hue` is deprecated and will be removed in v0.14.0. Assign the `x` variable to `hue` and set `legend=False` for the same effect.\n",
      "\n",
      "  sns.barplot(\n",
      "/accounts/grad/czye/GPN/gpn/analysis/gpn-star/train_and_eval/workflow/notebooks/plot.py:293: FutureWarning: \n",
      "\n",
      "Passing `palette` without assigning `hue` is deprecated and will be removed in v0.14.0. Assign the `x` variable to `hue` and set `legend=False` for the same effect.\n",
      "\n",
      "  sns.barplot(\n",
      "/accounts/grad/czye/GPN/gpn/analysis/gpn-star/train_and_eval/workflow/notebooks/plot.py:293: FutureWarning: \n",
      "\n",
      "Passing `palette` without assigning `hue` is deprecated and will be removed in v0.14.0. Assign the `x` variable to `hue` and set `legend=False` for the same effect.\n",
      "\n",
      "  sns.barplot(\n",
      "/accounts/grad/czye/GPN/gpn/analysis/gpn-star/train_and_eval/workflow/notebooks/plot.py:293: FutureWarning: \n",
      "\n",
      "Passing `palette` without assigning `hue` is deprecated and will be removed in v0.14.0. Assign the `x` variable to `hue` and set `legend=False` for the same effect.\n",
      "\n",
      "  sns.barplot(\n",
      "/accounts/grad/czye/GPN/gpn/analysis/gpn-star/train_and_eval/workflow/notebooks/plot.py:373: UserWarning: This figure includes Axes that are not compatible with tight_layout, so results might be incorrect.\n",
      "  fig.tight_layout(h_pad=0.1, rect=[0, 0, right_margin, suptitle_y])\n"
     ]
    },
    {
     "data": {
      "image/png": "[encoded data removed]",
      "text/plain": [
       "<Figure size 130x765 with 9 Axes>"
      ]
     },
     "metadata": {},
     "output_type": "display_data"
    }
   ],
   "source": [
    "barplot_vertical_aligned(\n",
    "    results_dest[(results_dest.n==30) & (results_dest.p_value < 0.05)],\n",
    "    metric=\"Odds ratio\",\n",
    "    title=r\"$\\bf{\\sf{DEST}}$\" + \"\\nrare vs. common\\n(by consequence)\",\n",
    "    palette=palette,\n",
    "    width=1.3,\n",
    "    height=0.85,\n",
    "    hspace=0.5,\n",
    "    suptitle_y=0.98,\n",
    "    model_order=['GPN-Star', 'PhyloP', 'PhastCons',],\n",
    "    group_order=['missense', 'synonymous', 'splice-region', \"5' UTR\", \"3' UTR\", 'intron', 'upstream-of-gene', 'downstream-of-gene', 'intergenic'],\n",
    ")\n"
   ]
  },
  {
   "cell_type": "markdown",
   "id": "9abcbaee",
   "metadata": {},
   "source": [
    "# Flybase lethal"
   ]
  },
  {
   "cell_type": "code",
   "execution_count": 15,
   "id": "2bbe6d3f",
   "metadata": {},
   "outputs": [
    {
     "name": "stderr",
     "output_type": "stream",
     "text": [
      "Fetching 6 files: 100%|██████████| 6/6 [00:01<00:00,  3.84it/s]\n"
     ]
    },
    {
     "data": {
      "text/plain": [
       "'/accounts/grad/czye/GPN/gpn/analysis/gpn-star/train_and_eval/workflow/notebooks/tmp/flybase'"
      ]
     },
     "execution_count": 15,
     "metadata": {},
     "output_type": "execute_result"
    }
   ],
   "source": [
    "snapshot_download(repo_id=\"songlab/flybase_lethal\", local_dir=f\"{WORK_DIR}/flybase\", repo_type=\"dataset\")"
   ]
  },
  {
   "cell_type": "code",
   "execution_count": 16,
   "id": "e1365739",
   "metadata": {},
   "outputs": [
    {
     "data": {
      "text/html": [
       "<div>\n",
       "<style scoped>\n",
       "    .dataframe tbody tr th:only-of-type {\n",
       "        vertical-align: middle;\n",
       "    }\n",
       "\n",
       "    .dataframe tbody tr th {\n",
       "        vertical-align: top;\n",
       "    }\n",
       "\n",
       "    .dataframe thead th {\n",
       "        text-align: right;\n",
       "    }\n",
       "</style>\n",
       "<table border=\"1\" class=\"dataframe\">\n",
       "  <thead>\n",
       "    <tr style=\"text-align: right;\">\n",
       "      <th></th>\n",
       "      <th>chrom</th>\n",
       "      <th>pos</th>\n",
       "      <th>ref</th>\n",
       "      <th>alt</th>\n",
       "      <th>consequence</th>\n",
       "      <th>label</th>\n",
       "      <th>PhyloP</th>\n",
       "      <th>PhastCons</th>\n",
       "      <th>GPN-Star</th>\n",
       "    </tr>\n",
       "  </thead>\n",
       "  <tbody>\n",
       "    <tr>\n",
       "      <th>0</th>\n",
       "      <td>3L</td>\n",
       "      <td>12736453</td>\n",
       "      <td>T</td>\n",
       "      <td>A</td>\n",
       "      <td>missense</td>\n",
       "      <td>True</td>\n",
       "      <td>12.841</td>\n",
       "      <td>1.000</td>\n",
       "      <td>-7.734124</td>\n",
       "    </tr>\n",
       "    <tr>\n",
       "      <th>1</th>\n",
       "      <td>2L</td>\n",
       "      <td>8301571</td>\n",
       "      <td>C</td>\n",
       "      <td>T</td>\n",
       "      <td>nonsense</td>\n",
       "      <td>True</td>\n",
       "      <td>20.000</td>\n",
       "      <td>1.000</td>\n",
       "      <td>-9.068040</td>\n",
       "    </tr>\n",
       "    <tr>\n",
       "      <th>2</th>\n",
       "      <td>2L</td>\n",
       "      <td>6971200</td>\n",
       "      <td>C</td>\n",
       "      <td>T</td>\n",
       "      <td>nonsense</td>\n",
       "      <td>True</td>\n",
       "      <td>20.000</td>\n",
       "      <td>1.000</td>\n",
       "      <td>-10.436153</td>\n",
       "    </tr>\n",
       "    <tr>\n",
       "      <th>3</th>\n",
       "      <td>2R</td>\n",
       "      <td>9403730</td>\n",
       "      <td>G</td>\n",
       "      <td>A</td>\n",
       "      <td>nonsense</td>\n",
       "      <td>True</td>\n",
       "      <td>5.671</td>\n",
       "      <td>1.000</td>\n",
       "      <td>-8.753520</td>\n",
       "    </tr>\n",
       "    <tr>\n",
       "      <th>4</th>\n",
       "      <td>2R</td>\n",
       "      <td>7280291</td>\n",
       "      <td>C</td>\n",
       "      <td>T</td>\n",
       "      <td>nonsense</td>\n",
       "      <td>True</td>\n",
       "      <td>1.808</td>\n",
       "      <td>0.020</td>\n",
       "      <td>-7.069754</td>\n",
       "    </tr>\n",
       "    <tr>\n",
       "      <th>...</th>\n",
       "      <td>...</td>\n",
       "      <td>...</td>\n",
       "      <td>...</td>\n",
       "      <td>...</td>\n",
       "      <td>...</td>\n",
       "      <td>...</td>\n",
       "      <td>...</td>\n",
       "      <td>...</td>\n",
       "      <td>...</td>\n",
       "    </tr>\n",
       "    <tr>\n",
       "      <th>39144</th>\n",
       "      <td>Y</td>\n",
       "      <td>3253257</td>\n",
       "      <td>C</td>\n",
       "      <td>A</td>\n",
       "      <td>missense</td>\n",
       "      <td>False</td>\n",
       "      <td>0.015</td>\n",
       "      <td>0.007</td>\n",
       "      <td>1.472105</td>\n",
       "    </tr>\n",
       "    <tr>\n",
       "      <th>39145</th>\n",
       "      <td>Y</td>\n",
       "      <td>3253332</td>\n",
       "      <td>T</td>\n",
       "      <td>A</td>\n",
       "      <td>missense</td>\n",
       "      <td>False</td>\n",
       "      <td>NaN</td>\n",
       "      <td>NaN</td>\n",
       "      <td>1.399647</td>\n",
       "    </tr>\n",
       "    <tr>\n",
       "      <th>39146</th>\n",
       "      <td>Y</td>\n",
       "      <td>3289942</td>\n",
       "      <td>C</td>\n",
       "      <td>A</td>\n",
       "      <td>missense</td>\n",
       "      <td>False</td>\n",
       "      <td>0.569</td>\n",
       "      <td>0.986</td>\n",
       "      <td>-1.555449</td>\n",
       "    </tr>\n",
       "    <tr>\n",
       "      <th>39147</th>\n",
       "      <td>Y</td>\n",
       "      <td>3289964</td>\n",
       "      <td>A</td>\n",
       "      <td>C</td>\n",
       "      <td>missense</td>\n",
       "      <td>False</td>\n",
       "      <td>-0.539</td>\n",
       "      <td>0.000</td>\n",
       "      <td>2.582490</td>\n",
       "    </tr>\n",
       "    <tr>\n",
       "      <th>39148</th>\n",
       "      <td>Y</td>\n",
       "      <td>3653121</td>\n",
       "      <td>A</td>\n",
       "      <td>T</td>\n",
       "      <td>splicing</td>\n",
       "      <td>False</td>\n",
       "      <td>0.191</td>\n",
       "      <td>0.683</td>\n",
       "      <td>1.848731</td>\n",
       "    </tr>\n",
       "  </tbody>\n",
       "</table>\n",
       "<p>42078 rows × 9 columns</p>\n",
       "</div>"
      ],
      "text/plain": [
       "      chrom       pos ref alt consequence  label  PhyloP  PhastCons   GPN-Star\n",
       "0        3L  12736453   T   A    missense   True  12.841      1.000  -7.734124\n",
       "1        2L   8301571   C   T    nonsense   True  20.000      1.000  -9.068040\n",
       "2        2L   6971200   C   T    nonsense   True  20.000      1.000 -10.436153\n",
       "3        2R   9403730   G   A    nonsense   True   5.671      1.000  -8.753520\n",
       "4        2R   7280291   C   T    nonsense   True   1.808      0.020  -7.069754\n",
       "...     ...       ...  ..  ..         ...    ...     ...        ...        ...\n",
       "39144     Y   3253257   C   A    missense  False   0.015      0.007   1.472105\n",
       "39145     Y   3253332   T   A    missense  False     NaN        NaN   1.399647\n",
       "39146     Y   3289942   C   A    missense  False   0.569      0.986  -1.555449\n",
       "39147     Y   3289964   A   C    missense  False  -0.539      0.000   2.582490\n",
       "39148     Y   3653121   A   T    splicing  False   0.191      0.683   1.848731\n",
       "\n",
       "[42078 rows x 9 columns]"
      ]
     },
     "execution_count": 16,
     "metadata": {},
     "output_type": "execute_result"
    }
   ],
   "source": [
    "V_flybase = pd.read_parquet(f'{WORK_DIR}/flybase/test.parquet')\n",
    "\n",
    "for m in genome_wide_veps + gpn_star_models:\n",
    "    V_flybase[m] = pd.read_parquet(f'{WORK_DIR}/flybase/predictions/{m}.parquet')\n",
    "V_flybase"
   ]
  },
  {
   "cell_type": "code",
   "execution_count": 17,
   "id": "c538d1e7",
   "metadata": {},
   "outputs": [
    {
     "name": "stdout",
     "output_type": "stream",
     "text": [
      "Calculating AUROC and AUPRC with 1000 bootstraps...\n"
     ]
    },
    {
     "name": "stderr",
     "output_type": "stream",
     "text": [
      "models: 100%|██████████| 3/3 [00:48<00:00, 16.28s/it]\n"
     ]
    },
    {
     "data": {
      "text/html": [
       "<div>\n",
       "<style scoped>\n",
       "    .dataframe tbody tr th:only-of-type {\n",
       "        vertical-align: middle;\n",
       "    }\n",
       "\n",
       "    .dataframe tbody tr th {\n",
       "        vertical-align: top;\n",
       "    }\n",
       "\n",
       "    .dataframe thead th {\n",
       "        text-align: right;\n",
       "    }\n",
       "</style>\n",
       "<table border=\"1\" class=\"dataframe\">\n",
       "  <thead>\n",
       "    <tr style=\"text-align: right;\">\n",
       "      <th></th>\n",
       "      <th>Model</th>\n",
       "      <th>AUROC</th>\n",
       "      <th>AUPRC</th>\n",
       "      <th>AUROC_se</th>\n",
       "      <th>AUPRC_se</th>\n",
       "    </tr>\n",
       "  </thead>\n",
       "  <tbody>\n",
       "    <tr>\n",
       "      <th>2</th>\n",
       "      <td>GPN-Star</td>\n",
       "      <td>0.984074</td>\n",
       "      <td>0.928743</td>\n",
       "      <td>0.001337</td>\n",
       "      <td>0.003672</td>\n",
       "    </tr>\n",
       "    <tr>\n",
       "      <th>0</th>\n",
       "      <td>PhyloP</td>\n",
       "      <td>0.933700</td>\n",
       "      <td>0.685252</td>\n",
       "      <td>0.002680</td>\n",
       "      <td>0.008351</td>\n",
       "    </tr>\n",
       "    <tr>\n",
       "      <th>1</th>\n",
       "      <td>PhastCons</td>\n",
       "      <td>0.892218</td>\n",
       "      <td>0.315794</td>\n",
       "      <td>0.002654</td>\n",
       "      <td>0.003613</td>\n",
       "    </tr>\n",
       "  </tbody>\n",
       "</table>\n",
       "</div>"
      ],
      "text/plain": [
       "       Model     AUROC     AUPRC  AUROC_se  AUPRC_se\n",
       "2   GPN-Star  0.984074  0.928743  0.001337  0.003672\n",
       "0     PhyloP  0.933700  0.685252  0.002680  0.008351\n",
       "1  PhastCons  0.892218  0.315794  0.002654  0.003613"
      ]
     },
     "execution_count": 17,
     "metadata": {},
     "output_type": "execute_result"
    }
   ],
   "source": [
    "all_models = genome_wide_veps + gpn_star_models\n",
    "rows = []\n",
    "V_flybase_c = V_flybase.copy()\n",
    "V_flybase_c.dropna(subset=all_models, inplace=True)\n",
    "V_flybase_c.reset_index(drop=True, inplace=True)\n",
    "n_pos, n_neg = (V_flybase_c.label==True).sum(), (V_flybase_c.label==False).sum()\n",
    "pos_prop = n_pos/(n_pos+n_neg)\n",
    "\n",
    "print(\"Calculating AUROC and AUPRC with 1000 bootstraps...\")\n",
    "for m in tqdm(all_models, desc='models'):\n",
    "    if m in gpn_star_models:\n",
    "        AUROC = roc_auc_score(V_flybase_c.label==True, -V_flybase_c[m])\n",
    "        AUPRC = average_precision_score(V_flybase_c.label==True, -V_flybase_c[m])\n",
    "        AUROC_se, AUPRC_se = stratified_bootstrap_se(V_flybase_c.label==True, -V_flybase_c[m])\n",
    "    else:\n",
    "        AUROC = roc_auc_score(V_flybase_c.label==True, V_flybase_c[m])\n",
    "        AUPRC = average_precision_score(V_flybase_c.label==True, V_flybase_c[m])\n",
    "        AUROC_se, AUPRC_se = stratified_bootstrap_se(V_flybase_c.label==True, V_flybase_c[m])\n",
    "    rows.append([m, AUROC, AUPRC, AUROC_se, AUPRC_se])\n",
    "results = pd.DataFrame(rows, columns=[\"Model\", \"AUROC\", \"AUPRC\", \"AUROC_se\", \"AUPRC_se\"])\n",
    "results = results.sort_values('AUPRC', ascending = False)\n",
    "results"
   ]
  },
  {
   "cell_type": "code",
   "execution_count": 19,
   "id": "799f9d38",
   "metadata": {},
   "outputs": [
    {
     "name": "stderr",
     "output_type": "stream",
     "text": [
      "/accounts/grad/czye/GPN/gpn/analysis/gpn-star/train_and_eval/workflow/notebooks/plot.py:64: FutureWarning: \n",
      "\n",
      "Passing `palette` without assigning `hue` is deprecated and will be removed in v0.14.0. Assign the `y` variable to `hue` and set `legend=False` for the same effect.\n",
      "\n",
      "  sns.barplot(\n"
     ]
    },
    {
     "data": {
      "image/png": "[encoded data removed]",
      "text/plain": [
       "<Figure size 200x150 with 1 Axes>"
      ]
     },
     "metadata": {},
     "output_type": "display_data"
    }
   ],
   "source": [
    "barplot(\n",
    "    results,\n",
    "    \"AUPRC\",\n",
    "    pos_prop = pos_prop,\n",
    "    palette = palette,\n",
    "    figsize=(2,1.5),\n",
    "    title = r'$\\it{D.\\ melanogaster\\ }\\bf{\\sf{(FlyBase)}}$' + f\"\\nlethal vs. common\\nn={n_pos} vs. {n_neg}\",\n",
    ")"
   ]
  },
  {
   "cell_type": "code",
   "execution_count": null,
   "id": "1a934034",
   "metadata": {},
   "outputs": [],
   "source": []
  }
 ],
 "metadata": {
  "kernelspec": {
   "display_name": "gpn_star",
   "language": "python",
   "name": "python3"
  },
  "language_info": {
   "codemirror_mode": {
    "name": "ipython",
    "version": 3
   },
   "file_extension": ".py",
   "mimetype": "text/x-python",
   "name": "python",
   "nbconvert_exporter": "python",
   "pygments_lexer": "ipython3",
   "version": "3.10.18"
  }
 },
 "nbformat": 4,
 "nbformat_minor": 5
}
