{
 "cells": [
  {
   "cell_type": "markdown",
   "id": "2784305f",
   "metadata": {},
   "source": [
    "# Import and Define"
   ]
  },
  {
   "cell_type": "code",
   "execution_count": 1,
   "id": "759b2b0b",
   "metadata": {},
   "outputs": [
    {
     "name": "stderr",
     "output_type": "stream",
     "text": [
      "/accounts/grad/czye/conda/envs/gpn_env/envs/gpn_star/lib/python3.10/site-packages/tqdm/auto.py:21: TqdmWarning: IProgress not found. Please update jupyter and ipywidgets. See https://ipywidgets.readthedocs.io/en/stable/user_install.html\n",
      "  from .autonotebook import tqdm as notebook_tqdm\n"
     ]
    }
   ],
   "source": [
    "from plot import *\n",
    "import numpy as np\n",
    "import pandas as pd\n",
    "import polars as pl\n",
    "from huggingface_hub import hf_hub_download, snapshot_download\n",
    "\n",
    "from scipy.stats import spearmanr\n",
    "from sklearn.metrics import roc_auc_score, precision_recall_curve, auc, RocCurveDisplay, average_precision_score, PrecisionRecallDisplay\n",
    "from tqdm import tqdm\n",
    "tqdm.pandas()"
   ]
  },
  {
   "cell_type": "code",
   "execution_count": 2,
   "id": "cb37eac7",
   "metadata": {},
   "outputs": [],
   "source": [
    "palette = {\n",
    "    'GPN-Star': \"#2773BA\",\n",
    "    'PhyloP': '#9E66BA', \n",
    "    'PhastCons': '#C4494B',\n",
    "}"
   ]
  },
  {
   "cell_type": "code",
   "execution_count": 3,
   "id": "2770ad54",
   "metadata": {},
   "outputs": [],
   "source": [
    "# model groups\n",
    "\n",
    "gpn_star_models = [\n",
    "    'GPN-Star'\n",
    "]\n",
    "\n",
    "genome_wide_veps = [\n",
    "    'PhyloP',\n",
    "    'PhastCons',\n",
    "]"
   ]
  },
  {
   "cell_type": "code",
   "execution_count": 4,
   "id": "2e0b4c6a",
   "metadata": {},
   "outputs": [],
   "source": [
    "WORK_DIR = 'tmp/'"
   ]
  },
  {
   "cell_type": "markdown",
   "id": "42bb4276",
   "metadata": {},
   "source": [
    "# WMGP rare vs. common enrichment"
   ]
  },
  {
   "cell_type": "code",
   "execution_count": 5,
   "id": "279559c7",
   "metadata": {},
   "outputs": [
    {
     "name": "stderr",
     "output_type": "stream",
     "text": [
      "Fetching 6 files: 100%|██████████| 6/6 [00:00<00:00, 2169.09it/s]\n"
     ]
    },
    {
     "data": {
      "text/plain": [
       "'/accounts/grad/czye/GPN/gpn/analysis/gpn-star/train_and_eval/workflow/notebooks/tmp/wmgp'"
      ]
     },
     "execution_count": 5,
     "metadata": {},
     "output_type": "execute_result"
    }
   ],
   "source": [
    "snapshot_download(repo_id=\"songlab/wmgp_balanced\", local_dir=f\"{WORK_DIR}/wmgp\", repo_type=\"dataset\")"
   ]
  },
  {
   "cell_type": "code",
   "execution_count": 6,
   "id": "cb2cb3be",
   "metadata": {},
   "outputs": [],
   "source": [
    "V_wmgp = pd.read_parquet(f'{WORK_DIR}/wmgp/test.parquet')\n",
    "\n",
    "all_models = genome_wide_veps + gpn_star_models\n",
    "for m in all_models:\n",
    "    V_wmgp[m] = pd.read_parquet(f'{WORK_DIR}/wmgp/predictions/{m}.parquet')"
   ]
  },
  {
   "cell_type": "code",
   "execution_count": 7,
   "id": "375f398d",
   "metadata": {},
   "outputs": [
    {
     "data": {
      "text/html": [
       "<div><style>\n",
       ".dataframe > thead > tr,\n",
       ".dataframe > tbody > tr {\n",
       "  text-align: right;\n",
       "  white-space: pre-wrap;\n",
       "}\n",
       "</style>\n",
       "<small>shape: (50_077_933, 10)</small><table border=\"1\" class=\"dataframe\"><thead><tr><th>chrom</th><th>pos</th><th>ref</th><th>alt</th><th>AF</th><th>consequence</th><th>label</th><th>PhyloP</th><th>PhastCons</th><th>GPN-Star</th></tr><tr><td>str</td><td>i64</td><td>str</td><td>str</td><td>f32</td><td>str</td><td>bool</td><td>f64</td><td>f64</td><td>f32</td></tr></thead><tbody><tr><td>&quot;1&quot;</td><td>3050120</td><td>&quot;G&quot;</td><td>&quot;A&quot;</td><td>0.21</td><td>&quot;intergenic&quot;</td><td>false</td><td>-0.015</td><td>0.018</td><td>2.569848</td></tr><tr><td>&quot;1&quot;</td><td>3050199</td><td>&quot;T&quot;</td><td>&quot;C&quot;</td><td>0.985</td><td>&quot;intergenic&quot;</td><td>false</td><td>-0.467</td><td>0.11</td><td>2.740601</td></tr><tr><td>&quot;1&quot;</td><td>3050263</td><td>&quot;G&quot;</td><td>&quot;T&quot;</td><td>0.005</td><td>&quot;intergenic&quot;</td><td>true</td><td>0.099</td><td>0.888</td><td>0.656316</td></tr><tr><td>&quot;1&quot;</td><td>3050355</td><td>&quot;C&quot;</td><td>&quot;T&quot;</td><td>0.28</td><td>&quot;intergenic&quot;</td><td>false</td><td>null</td><td>null</td><td>0.55831</td></tr><tr><td>&quot;1&quot;</td><td>3050404</td><td>&quot;G&quot;</td><td>&quot;A&quot;</td><td>0.005</td><td>&quot;intergenic&quot;</td><td>true</td><td>null</td><td>null</td><td>1.640926</td></tr><tr><td>&hellip;</td><td>&hellip;</td><td>&hellip;</td><td>&hellip;</td><td>&hellip;</td><td>&hellip;</td><td>&hellip;</td><td>&hellip;</td><td>&hellip;</td><td>&hellip;</td></tr><tr><td>&quot;Y&quot;</td><td>90855263</td><td>&quot;A&quot;</td><td>&quot;G&quot;</td><td>0.36</td><td>&quot;non_coding_transcript_exon&quot;</td><td>false</td><td>2.91</td><td>1.0</td><td>-4.366385</td></tr><tr><td>&quot;Y&quot;</td><td>90855265</td><td>&quot;A&quot;</td><td>&quot;G&quot;</td><td>0.21</td><td>&quot;non_coding_transcript_exon&quot;</td><td>false</td><td>1.074</td><td>1.0</td><td>-5.610187</td></tr><tr><td>&quot;Y&quot;</td><td>90855286</td><td>&quot;T&quot;</td><td>&quot;C&quot;</td><td>0.22</td><td>&quot;non_coding_transcript_exon&quot;</td><td>false</td><td>-0.666</td><td>0.993</td><td>0.994787</td></tr><tr><td>&quot;Y&quot;</td><td>90855307</td><td>&quot;T&quot;</td><td>&quot;C&quot;</td><td>0.32</td><td>&quot;non_coding_transcript_exon&quot;</td><td>false</td><td>-0.293</td><td>0.003</td><td>2.000901</td></tr><tr><td>&quot;Y&quot;</td><td>90855309</td><td>&quot;A&quot;</td><td>&quot;G&quot;</td><td>0.22</td><td>&quot;non_coding_transcript_exon&quot;</td><td>false</td><td>0.619</td><td>0.004</td><td>-0.052316</td></tr></tbody></table></div>"
      ],
      "text/plain": [
       "shape: (50_077_933, 10)\n",
       "┌───────┬──────────┬─────┬─────┬───┬───────┬────────┬───────────┬───────────┐\n",
       "│ chrom ┆ pos      ┆ ref ┆ alt ┆ … ┆ label ┆ PhyloP ┆ PhastCons ┆ GPN-Star  │\n",
       "│ ---   ┆ ---      ┆ --- ┆ --- ┆   ┆ ---   ┆ ---    ┆ ---       ┆ ---       │\n",
       "│ str   ┆ i64      ┆ str ┆ str ┆   ┆ bool  ┆ f64    ┆ f64       ┆ f32       │\n",
       "╞═══════╪══════════╪═════╪═════╪═══╪═══════╪════════╪═══════════╪═══════════╡\n",
       "│ 1     ┆ 3050120  ┆ G   ┆ A   ┆ … ┆ false ┆ -0.015 ┆ 0.018     ┆ 2.569848  │\n",
       "│ 1     ┆ 3050199  ┆ T   ┆ C   ┆ … ┆ false ┆ -0.467 ┆ 0.11      ┆ 2.740601  │\n",
       "│ 1     ┆ 3050263  ┆ G   ┆ T   ┆ … ┆ true  ┆ 0.099  ┆ 0.888     ┆ 0.656316  │\n",
       "│ 1     ┆ 3050355  ┆ C   ┆ T   ┆ … ┆ false ┆ null   ┆ null      ┆ 0.55831   │\n",
       "│ 1     ┆ 3050404  ┆ G   ┆ A   ┆ … ┆ true  ┆ null   ┆ null      ┆ 1.640926  │\n",
       "│ …     ┆ …        ┆ …   ┆ …   ┆ … ┆ …     ┆ …      ┆ …         ┆ …         │\n",
       "│ Y     ┆ 90855263 ┆ A   ┆ G   ┆ … ┆ false ┆ 2.91   ┆ 1.0       ┆ -4.366385 │\n",
       "│ Y     ┆ 90855265 ┆ A   ┆ G   ┆ … ┆ false ┆ 1.074  ┆ 1.0       ┆ -5.610187 │\n",
       "│ Y     ┆ 90855286 ┆ T   ┆ C   ┆ … ┆ false ┆ -0.666 ┆ 0.993     ┆ 0.994787  │\n",
       "│ Y     ┆ 90855307 ┆ T   ┆ C   ┆ … ┆ false ┆ -0.293 ┆ 0.003     ┆ 2.000901  │\n",
       "│ Y     ┆ 90855309 ┆ A   ┆ G   ┆ … ┆ false ┆ 0.619  ┆ 0.004     ┆ -0.052316 │\n",
       "└───────┴──────────┴─────┴─────┴───┴───────┴────────┴───────────┴───────────┘"
      ]
     },
     "execution_count": 7,
     "metadata": {},
     "output_type": "execute_result"
    }
   ],
   "source": [
    "V_wmgp = pl.from_pandas(V_wmgp) # compute in polars for efficiency\n",
    "V_wmgp"
   ]
  },
  {
   "cell_type": "code",
   "execution_count": 8,
   "id": "05d7849a",
   "metadata": {},
   "outputs": [
    {
     "name": "stderr",
     "output_type": "stream",
     "text": [
      "100%|██████████| 17/17 [00:06<00:00,  2.57it/s]\n"
     ]
    },
    {
     "data": {
      "text/html": [
       "<div>\n",
       "<style scoped>\n",
       "    .dataframe tbody tr th:only-of-type {\n",
       "        vertical-align: middle;\n",
       "    }\n",
       "\n",
       "    .dataframe tbody tr th {\n",
       "        vertical-align: top;\n",
       "    }\n",
       "\n",
       "    .dataframe thead th {\n",
       "        text-align: right;\n",
       "    }\n",
       "</style>\n",
       "<table border=\"1\" class=\"dataframe\">\n",
       "  <thead>\n",
       "    <tr style=\"text-align: right;\">\n",
       "      <th></th>\n",
       "      <th>n</th>\n",
       "      <th>Odds ratio</th>\n",
       "      <th>p_value</th>\n",
       "      <th>Consequence</th>\n",
       "      <th>Model</th>\n",
       "      <th>n_pos</th>\n",
       "      <th>n_neg</th>\n",
       "    </tr>\n",
       "  </thead>\n",
       "  <tbody>\n",
       "    <tr>\n",
       "      <th>0</th>\n",
       "      <td>30</td>\n",
       "      <td>6.950945</td>\n",
       "      <td>1.184648e-36</td>\n",
       "      <td>missense</td>\n",
       "      <td>PhyloP</td>\n",
       "      <td>58538</td>\n",
       "      <td>57679</td>\n",
       "    </tr>\n",
       "    <tr>\n",
       "      <th>1</th>\n",
       "      <td>30</td>\n",
       "      <td>2.795920</td>\n",
       "      <td>0.000000e+00</td>\n",
       "      <td>missense</td>\n",
       "      <td>PhastCons</td>\n",
       "      <td>58538</td>\n",
       "      <td>57679</td>\n",
       "    </tr>\n",
       "    <tr>\n",
       "      <th>2</th>\n",
       "      <td>30</td>\n",
       "      <td>37.198739</td>\n",
       "      <td>3.032802e-293</td>\n",
       "      <td>missense</td>\n",
       "      <td>GPN-Star</td>\n",
       "      <td>58538</td>\n",
       "      <td>57679</td>\n",
       "    </tr>\n",
       "    <tr>\n",
       "      <th>3</th>\n",
       "      <td>30</td>\n",
       "      <td>6.138249</td>\n",
       "      <td>4.021377e-24</td>\n",
       "      <td>start_or_stop</td>\n",
       "      <td>PhyloP</td>\n",
       "      <td>702</td>\n",
       "      <td>697</td>\n",
       "    </tr>\n",
       "    <tr>\n",
       "      <th>4</th>\n",
       "      <td>30</td>\n",
       "      <td>4.350405</td>\n",
       "      <td>9.915820e-18</td>\n",
       "      <td>start_or_stop</td>\n",
       "      <td>PhastCons</td>\n",
       "      <td>702</td>\n",
       "      <td>697</td>\n",
       "    </tr>\n",
       "  </tbody>\n",
       "</table>\n",
       "</div>"
      ],
      "text/plain": [
       "    n  Odds ratio        p_value    Consequence      Model  n_pos  n_neg\n",
       "0  30    6.950945   1.184648e-36       missense     PhyloP  58538  57679\n",
       "1  30    2.795920   0.000000e+00       missense  PhastCons  58538  57679\n",
       "2  30   37.198739  3.032802e-293       missense   GPN-Star  58538  57679\n",
       "3  30    6.138249   4.021377e-24  start_or_stop     PhyloP    702    697\n",
       "4  30    4.350405   9.915820e-18  start_or_stop  PhastCons    702    697"
      ]
     },
     "execution_count": 8,
     "metadata": {},
     "output_type": "execute_result"
    }
   ],
   "source": [
    "results_wmgp = []\n",
    "for c in tqdm(V_wmgp['consequence'].unique().to_list()+['all']):\n",
    "    if c != 'all' and (V_wmgp['consequence']==c).sum() < 500:\n",
    "        continue\n",
    "    df_c = V_wmgp.clone() if c == \"all\" else V_wmgp.filter(pl.col(\"consequence\") == c)\n",
    "    df_c = df_c.drop_nulls(subset=all_models)\n",
    "    n_pos, n_neg = df_c[\"label\"].sum(), (~df_c[\"label\"]).sum()\n",
    "    for m in all_models:\n",
    "        try:\n",
    "            if m not in gpn_star_models:\n",
    "                # Fix: Apply negation to the score column instead of the DataFrame\n",
    "                selected_df = df_c.select([\"label\", pl.col(m).alias(\"score\")])\n",
    "                selected_df = selected_df.with_columns(pl.col(\"score\") * -1)\n",
    "                odds_ratio = (\n",
    "                    get_odds_ratio(selected_df, [30])\n",
    "                    .with_columns(\n",
    "                        Consequence=pl.lit(c), Model=pl.lit(m),\n",
    "                        n_pos=pl.lit(n_pos), n_neg=pl.lit(n_neg),\n",
    "                    )\n",
    "                )\n",
    "                results_wmgp.append(odds_ratio)\n",
    "            else:\n",
    "                odds_ratio = (\n",
    "                    get_odds_ratio(df_c.select([\"label\", pl.col(m).alias(\"score\")]), [30])\n",
    "                    .with_columns(\n",
    "                        Consequence=pl.lit(c), Model=pl.lit(m),\n",
    "                        n_pos=pl.lit(n_pos), n_neg=pl.lit(n_neg),\n",
    "                    )\n",
    "                )\n",
    "                results_wmgp.append(odds_ratio)\n",
    "        except:\n",
    "            pass\n",
    "\n",
    "results_wmgp = pl.concat(results_wmgp).to_pandas()\n",
    "results_wmgp.head()"
   ]
  },
  {
   "cell_type": "code",
   "execution_count": 9,
   "id": "24143a17",
   "metadata": {},
   "outputs": [],
   "source": [
    "replacements = {\n",
    "    \"5_prime_UTR\": \"5' UTR\",\n",
    "    \"3_prime_UTR\": \"3' UTR\",\n",
    "    \"upstream_gene\": \"upstream-of-gene\",\n",
    "    \"downstream_gene\": \"downstream-of-gene\",\n",
    "    \"splice_region\": \"splice-region\",\n",
    "    \"start_or_stop\": \"start-or-stop\",\n",
    "}\n",
    "results_wmgp['Consequence'] = results_wmgp['Consequence'].replace(replacements)"
   ]
  },
  {
   "cell_type": "code",
   "execution_count": 10,
   "id": "e0667636",
   "metadata": {},
   "outputs": [],
   "source": [
    "results_wmgp = results_wmgp.sort_values('Odds ratio', ascending = False)"
   ]
  },
  {
   "cell_type": "code",
   "execution_count": 11,
   "id": "09d5f410",
   "metadata": {},
   "outputs": [
    {
     "name": "stderr",
     "output_type": "stream",
     "text": [
      "/accounts/grad/czye/GPN/gpn/analysis/gpn-star/train_and_eval/workflow/notebooks/plot.py:414: FutureWarning: \n",
      "\n",
      "Passing `palette` without assigning `hue` is deprecated and will be removed in v0.14.0. Assign the `x` variable to `hue` and set `legend=False` for the same effect.\n",
      "\n",
      "  g = sns.barplot(\n"
     ]
    },
    {
     "data": {
      "image/png": "[encoded data removed]",
      "text/plain": [
       "<Figure size 120x160 with 1 Axes>"
      ]
     },
     "metadata": {},
     "output_type": "display_data"
    }
   ],
   "source": [
    "barplot_vertical(\n",
    "    results_wmgp[\n",
    "        (results_wmgp.p_value < 0.05) &\n",
    "        (results_wmgp.Consequence == \"all\")\n",
    "    ],\n",
    "    \"Odds ratio\",\n",
    "    r\"$\\bf{\\sf{WMGP}}$\" + \"\\nrare vs. common\",\n",
    "    y=1.35, width=1.2, height=1.6,\n",
    "    palette=palette,\n",
    ")"
   ]
  },
  {
   "cell_type": "code",
   "execution_count": 12,
   "id": "a4bc60c5",
   "metadata": {},
   "outputs": [
    {
     "name": "stderr",
     "output_type": "stream",
     "text": [
      "/accounts/grad/czye/GPN/gpn/analysis/gpn-star/train_and_eval/workflow/notebooks/plot.py:293: FutureWarning: \n",
      "\n",
      "Passing `palette` without assigning `hue` is deprecated and will be removed in v0.14.0. Assign the `x` variable to `hue` and set `legend=False` for the same effect.\n",
      "\n",
      "  sns.barplot(\n",
      "/accounts/grad/czye/GPN/gpn/analysis/gpn-star/train_and_eval/workflow/notebooks/plot.py:293: FutureWarning: \n",
      "\n",
      "Passing `palette` without assigning `hue` is deprecated and will be removed in v0.14.0. Assign the `x` variable to `hue` and set `legend=False` for the same effect.\n",
      "\n",
      "  sns.barplot(\n",
      "/accounts/grad/czye/GPN/gpn/analysis/gpn-star/train_and_eval/workflow/notebooks/plot.py:293: FutureWarning: \n",
      "\n",
      "Passing `palette` without assigning `hue` is deprecated and will be removed in v0.14.0. Assign the `x` variable to `hue` and set `legend=False` for the same effect.\n",
      "\n",
      "  sns.barplot(\n",
      "/accounts/grad/czye/GPN/gpn/analysis/gpn-star/train_and_eval/workflow/notebooks/plot.py:293: FutureWarning: \n",
      "\n",
      "Passing `palette` without assigning `hue` is deprecated and will be removed in v0.14.0. Assign the `x` variable to `hue` and set `legend=False` for the same effect.\n",
      "\n",
      "  sns.barplot(\n",
      "/accounts/grad/czye/GPN/gpn/analysis/gpn-star/train_and_eval/workflow/notebooks/plot.py:293: FutureWarning: \n",
      "\n",
      "Passing `palette` without assigning `hue` is deprecated and will be removed in v0.14.0. Assign the `x` variable to `hue` and set `legend=False` for the same effect.\n",
      "\n",
      "  sns.barplot(\n",
      "/accounts/grad/czye/GPN/gpn/analysis/gpn-star/train_and_eval/workflow/notebooks/plot.py:293: FutureWarning: \n",
      "\n",
      "Passing `palette` without assigning `hue` is deprecated and will be removed in v0.14.0. Assign the `x` variable to `hue` and set `legend=False` for the same effect.\n",
      "\n",
      "  sns.barplot(\n",
      "/accounts/grad/czye/GPN/gpn/analysis/gpn-star/train_and_eval/workflow/notebooks/plot.py:293: FutureWarning: \n",
      "\n",
      "Passing `palette` without assigning `hue` is deprecated and will be removed in v0.14.0. Assign the `x` variable to `hue` and set `legend=False` for the same effect.\n",
      "\n",
      "  sns.barplot(\n",
      "/accounts/grad/czye/GPN/gpn/analysis/gpn-star/train_and_eval/workflow/notebooks/plot.py:293: FutureWarning: \n",
      "\n",
      "Passing `palette` without assigning `hue` is deprecated and will be removed in v0.14.0. Assign the `x` variable to `hue` and set `legend=False` for the same effect.\n",
      "\n",
      "  sns.barplot(\n",
      "/accounts/grad/czye/GPN/gpn/analysis/gpn-star/train_and_eval/workflow/notebooks/plot.py:293: FutureWarning: \n",
      "\n",
      "Passing `palette` without assigning `hue` is deprecated and will be removed in v0.14.0. Assign the `x` variable to `hue` and set `legend=False` for the same effect.\n",
      "\n",
      "  sns.barplot(\n",
      "/accounts/grad/czye/GPN/gpn/analysis/gpn-star/train_and_eval/workflow/notebooks/plot.py:373: UserWarning: This figure includes Axes that are not compatible with tight_layout, so results might be incorrect.\n",
      "  fig.tight_layout(h_pad=0.1, rect=[0, 0, right_margin, suptitle_y])\n"
     ]
    },
    {
     "data": {
      "image/png": "[encoded data removed]",
      "text/plain": [
       "<Figure size 130x765 with 9 Axes>"
      ]
     },
     "metadata": {},
     "output_type": "display_data"
    }
   ],
   "source": [
    "barplot_vertical_aligned(\n",
    "    results_wmgp[(results_wmgp.n==30) & (results_wmgp.p_value < 0.05)],\n",
    "    metric=\"Odds ratio\",\n",
    "    title=r\"$\\bf{\\sf{WMGP}}$\" + \"\\nrare vs. common\\n(by consequence)\",\n",
    "    palette=palette,\n",
    "    width=1.3,\n",
    "    height=0.85,\n",
    "    hspace=0.5,\n",
    "    suptitle_y=0.98,\n",
    "    model_order=['GPN-Star', 'PhyloP', 'PhastCons',],\n",
    "    group_order=['missense', 'synonymous', 'splice-region', \"5' UTR\", \"3' UTR\", 'intron', 'upstream-of-gene', 'downstream-of-gene', 'intergenic'],\n",
    ")\n"
   ]
  },
  {
   "cell_type": "markdown",
   "id": "17c4f8db",
   "metadata": {},
   "source": [
    "# MMrdb"
   ]
  },
  {
   "cell_type": "code",
   "execution_count": 13,
   "id": "7e73ffd1",
   "metadata": {},
   "outputs": [
    {
     "name": "stderr",
     "output_type": "stream",
     "text": [
      "Fetching 6 files: 100%|██████████| 6/6 [00:00<00:00, 1303.79it/s]\n"
     ]
    },
    {
     "data": {
      "text/plain": [
       "'/accounts/grad/czye/GPN/gpn/analysis/gpn-star/train_and_eval/workflow/notebooks/tmp/mmrdb'"
      ]
     },
     "execution_count": 13,
     "metadata": {},
     "output_type": "execute_result"
    }
   ],
   "source": [
    "snapshot_download(repo_id=\"songlab/mmrdb\", local_dir=f\"{WORK_DIR}/mmrdb\", repo_type=\"dataset\")"
   ]
  },
  {
   "cell_type": "code",
   "execution_count": 14,
   "id": "669c9196",
   "metadata": {},
   "outputs": [
    {
     "data": {
      "text/html": [
       "<div>\n",
       "<style scoped>\n",
       "    .dataframe tbody tr th:only-of-type {\n",
       "        vertical-align: middle;\n",
       "    }\n",
       "\n",
       "    .dataframe tbody tr th {\n",
       "        vertical-align: top;\n",
       "    }\n",
       "\n",
       "    .dataframe thead th {\n",
       "        text-align: right;\n",
       "    }\n",
       "</style>\n",
       "<table border=\"1\" class=\"dataframe\">\n",
       "  <thead>\n",
       "    <tr style=\"text-align: right;\">\n",
       "      <th></th>\n",
       "      <th>chrom</th>\n",
       "      <th>pos</th>\n",
       "      <th>ref</th>\n",
       "      <th>alt</th>\n",
       "      <th>label</th>\n",
       "      <th>consequence</th>\n",
       "      <th>pcr_confirmed</th>\n",
       "      <th>PhyloP</th>\n",
       "      <th>PhastCons</th>\n",
       "      <th>GPN-Star</th>\n",
       "    </tr>\n",
       "  </thead>\n",
       "  <tbody>\n",
       "    <tr>\n",
       "      <th>0</th>\n",
       "      <td>16</td>\n",
       "      <td>64586994</td>\n",
       "      <td>A</td>\n",
       "      <td>T</td>\n",
       "      <td>True</td>\n",
       "      <td>stop_gained</td>\n",
       "      <td>True</td>\n",
       "      <td>0.733</td>\n",
       "      <td>1.000</td>\n",
       "      <td>-9.749947</td>\n",
       "    </tr>\n",
       "    <tr>\n",
       "      <th>1</th>\n",
       "      <td>8</td>\n",
       "      <td>23603779</td>\n",
       "      <td>G</td>\n",
       "      <td>T</td>\n",
       "      <td>True</td>\n",
       "      <td>splice_acceptor</td>\n",
       "      <td>True</td>\n",
       "      <td>3.040</td>\n",
       "      <td>0.998</td>\n",
       "      <td>-10.276040</td>\n",
       "    </tr>\n",
       "    <tr>\n",
       "      <th>2</th>\n",
       "      <td>7</td>\n",
       "      <td>81123210</td>\n",
       "      <td>G</td>\n",
       "      <td>A</td>\n",
       "      <td>True</td>\n",
       "      <td>stop_gained</td>\n",
       "      <td>True</td>\n",
       "      <td>2.562</td>\n",
       "      <td>1.000</td>\n",
       "      <td>-13.029928</td>\n",
       "    </tr>\n",
       "    <tr>\n",
       "      <th>3</th>\n",
       "      <td>11</td>\n",
       "      <td>108833460</td>\n",
       "      <td>T</td>\n",
       "      <td>A</td>\n",
       "      <td>True</td>\n",
       "      <td>stop_gained</td>\n",
       "      <td>True</td>\n",
       "      <td>0.200</td>\n",
       "      <td>0.996</td>\n",
       "      <td>-8.458364</td>\n",
       "    </tr>\n",
       "    <tr>\n",
       "      <th>4</th>\n",
       "      <td>15</td>\n",
       "      <td>92143687</td>\n",
       "      <td>T</td>\n",
       "      <td>G</td>\n",
       "      <td>True</td>\n",
       "      <td>stop_gained</td>\n",
       "      <td>True</td>\n",
       "      <td>3.716</td>\n",
       "      <td>1.000</td>\n",
       "      <td>-12.370487</td>\n",
       "    </tr>\n",
       "    <tr>\n",
       "      <th>...</th>\n",
       "      <td>...</td>\n",
       "      <td>...</td>\n",
       "      <td>...</td>\n",
       "      <td>...</td>\n",
       "      <td>...</td>\n",
       "      <td>...</td>\n",
       "      <td>...</td>\n",
       "      <td>...</td>\n",
       "      <td>...</td>\n",
       "      <td>...</td>\n",
       "    </tr>\n",
       "    <tr>\n",
       "      <th>503954</th>\n",
       "      <td>Y</td>\n",
       "      <td>90751450</td>\n",
       "      <td>G</td>\n",
       "      <td>A</td>\n",
       "      <td>False</td>\n",
       "      <td>splice_polypyrimidine_tract</td>\n",
       "      <td>False</td>\n",
       "      <td>NaN</td>\n",
       "      <td>NaN</td>\n",
       "      <td>1.688341</td>\n",
       "    </tr>\n",
       "    <tr>\n",
       "      <th>503955</th>\n",
       "      <td>Y</td>\n",
       "      <td>90770787</td>\n",
       "      <td>A</td>\n",
       "      <td>G</td>\n",
       "      <td>False</td>\n",
       "      <td>splice_region</td>\n",
       "      <td>False</td>\n",
       "      <td>1.262</td>\n",
       "      <td>0.999</td>\n",
       "      <td>-0.588489</td>\n",
       "    </tr>\n",
       "    <tr>\n",
       "      <th>503956</th>\n",
       "      <td>Y</td>\n",
       "      <td>90796378</td>\n",
       "      <td>G</td>\n",
       "      <td>A</td>\n",
       "      <td>False</td>\n",
       "      <td>splice_donor_5th_base</td>\n",
       "      <td>False</td>\n",
       "      <td>NaN</td>\n",
       "      <td>NaN</td>\n",
       "      <td>0.552545</td>\n",
       "    </tr>\n",
       "    <tr>\n",
       "      <th>503957</th>\n",
       "      <td>Y</td>\n",
       "      <td>90796860</td>\n",
       "      <td>C</td>\n",
       "      <td>G</td>\n",
       "      <td>False</td>\n",
       "      <td>splice_region</td>\n",
       "      <td>False</td>\n",
       "      <td>NaN</td>\n",
       "      <td>NaN</td>\n",
       "      <td>0.801525</td>\n",
       "    </tr>\n",
       "    <tr>\n",
       "      <th>503958</th>\n",
       "      <td>Y</td>\n",
       "      <td>90855143</td>\n",
       "      <td>A</td>\n",
       "      <td>G</td>\n",
       "      <td>False</td>\n",
       "      <td>splice_region</td>\n",
       "      <td>False</td>\n",
       "      <td>1.231</td>\n",
       "      <td>0.998</td>\n",
       "      <td>-0.615833</td>\n",
       "    </tr>\n",
       "  </tbody>\n",
       "</table>\n",
       "<p>504392 rows × 10 columns</p>\n",
       "</div>"
      ],
      "text/plain": [
       "       chrom        pos ref alt  label                  consequence  \\\n",
       "0         16   64586994   A   T   True                  stop_gained   \n",
       "1          8   23603779   G   T   True              splice_acceptor   \n",
       "2          7   81123210   G   A   True                  stop_gained   \n",
       "3         11  108833460   T   A   True                  stop_gained   \n",
       "4         15   92143687   T   G   True                  stop_gained   \n",
       "...      ...        ...  ..  ..    ...                          ...   \n",
       "503954     Y   90751450   G   A  False  splice_polypyrimidine_tract   \n",
       "503955     Y   90770787   A   G  False                splice_region   \n",
       "503956     Y   90796378   G   A  False        splice_donor_5th_base   \n",
       "503957     Y   90796860   C   G  False                splice_region   \n",
       "503958     Y   90855143   A   G  False                splice_region   \n",
       "\n",
       "        pcr_confirmed  PhyloP  PhastCons   GPN-Star  \n",
       "0                True   0.733      1.000  -9.749947  \n",
       "1                True   3.040      0.998 -10.276040  \n",
       "2                True   2.562      1.000 -13.029928  \n",
       "3                True   0.200      0.996  -8.458364  \n",
       "4                True   3.716      1.000 -12.370487  \n",
       "...               ...     ...        ...        ...  \n",
       "503954          False     NaN        NaN   1.688341  \n",
       "503955          False   1.262      0.999  -0.588489  \n",
       "503956          False     NaN        NaN   0.552545  \n",
       "503957          False     NaN        NaN   0.801525  \n",
       "503958          False   1.231      0.998  -0.615833  \n",
       "\n",
       "[504392 rows x 10 columns]"
      ]
     },
     "execution_count": 14,
     "metadata": {},
     "output_type": "execute_result"
    }
   ],
   "source": [
    "V_mmrdb = pd.read_parquet(f'{WORK_DIR}/mmrdb/test.parquet')\n",
    "\n",
    "for m in genome_wide_veps + gpn_star_models:\n",
    "    V_mmrdb[m] = pd.read_parquet(f'{WORK_DIR}/mmrdb/predictions/{m}.parquet')\n",
    "V_mmrdb"
   ]
  },
  {
   "cell_type": "code",
   "execution_count": 15,
   "id": "eaf60470",
   "metadata": {},
   "outputs": [
    {
     "name": "stdout",
     "output_type": "stream",
     "text": [
      "Calculating AUROC and AUPRC with 1000 bootstraps...\n"
     ]
    },
    {
     "name": "stderr",
     "output_type": "stream",
     "text": [
      "models:   0%|          | 0/3 [00:00<?, ?it/s]"
     ]
    },
    {
     "name": "stderr",
     "output_type": "stream",
     "text": [
      "models: 100%|██████████| 3/3 [09:01<00:00, 180.62s/it]\n"
     ]
    },
    {
     "data": {
      "text/html": [
       "<div>\n",
       "<style scoped>\n",
       "    .dataframe tbody tr th:only-of-type {\n",
       "        vertical-align: middle;\n",
       "    }\n",
       "\n",
       "    .dataframe tbody tr th {\n",
       "        vertical-align: top;\n",
       "    }\n",
       "\n",
       "    .dataframe thead th {\n",
       "        text-align: right;\n",
       "    }\n",
       "</style>\n",
       "<table border=\"1\" class=\"dataframe\">\n",
       "  <thead>\n",
       "    <tr style=\"text-align: right;\">\n",
       "      <th></th>\n",
       "      <th>Model</th>\n",
       "      <th>AUROC</th>\n",
       "      <th>AUPRC</th>\n",
       "      <th>AUROC_se</th>\n",
       "      <th>AUPRC_se</th>\n",
       "    </tr>\n",
       "  </thead>\n",
       "  <tbody>\n",
       "    <tr>\n",
       "      <th>2</th>\n",
       "      <td>GPN-Star</td>\n",
       "      <td>0.858588</td>\n",
       "      <td>0.296213</td>\n",
       "      <td>0.010400</td>\n",
       "      <td>0.024030</td>\n",
       "    </tr>\n",
       "    <tr>\n",
       "      <th>0</th>\n",
       "      <td>PhyloP</td>\n",
       "      <td>0.769923</td>\n",
       "      <td>0.038125</td>\n",
       "      <td>0.013129</td>\n",
       "      <td>0.006400</td>\n",
       "    </tr>\n",
       "    <tr>\n",
       "      <th>1</th>\n",
       "      <td>PhastCons</td>\n",
       "      <td>0.742667</td>\n",
       "      <td>0.003110</td>\n",
       "      <td>0.013254</td>\n",
       "      <td>0.000225</td>\n",
       "    </tr>\n",
       "  </tbody>\n",
       "</table>\n",
       "</div>"
      ],
      "text/plain": [
       "       Model     AUROC     AUPRC  AUROC_se  AUPRC_se\n",
       "2   GPN-Star  0.858588  0.296213  0.010400  0.024030\n",
       "0     PhyloP  0.769923  0.038125  0.013129  0.006400\n",
       "1  PhastCons  0.742667  0.003110  0.013254  0.000225"
      ]
     },
     "execution_count": 15,
     "metadata": {},
     "output_type": "execute_result"
    }
   ],
   "source": [
    "all_models = genome_wide_veps + gpn_star_models\n",
    "rows = []\n",
    "V_mmrdb_c = V_mmrdb.copy()\n",
    "V_mmrdb_c.dropna(subset=all_models, inplace=True)\n",
    "V_mmrdb_c.reset_index(drop=True, inplace=True)\n",
    "n_pos, n_neg = (V_mmrdb_c.label==True).sum(), (V_mmrdb_c.label==False).sum()\n",
    "pos_prop = n_pos/(n_pos+n_neg)\n",
    "\n",
    "print(\"Calculating AUROC and AUPRC with 1000 bootstraps...\")\n",
    "for m in tqdm(all_models, desc='models'):\n",
    "    if m in gpn_star_models:\n",
    "        AUROC = roc_auc_score(V_mmrdb_c.label==True, -V_mmrdb_c[m])\n",
    "        AUPRC = average_precision_score(V_mmrdb_c.label==True, -V_mmrdb_c[m])\n",
    "        AUROC_se, AUPRC_se = stratified_bootstrap_se(V_mmrdb_c.label==True, -V_mmrdb_c[m])\n",
    "    else:\n",
    "        AUROC = roc_auc_score(V_mmrdb_c.label==True, V_mmrdb_c[m])\n",
    "        AUPRC = average_precision_score(V_mmrdb_c.label==True, V_mmrdb_c[m])\n",
    "        AUROC_se, AUPRC_se = stratified_bootstrap_se(V_mmrdb_c.label==True, V_mmrdb_c[m])\n",
    "    rows.append([m, AUROC, AUPRC, AUROC_se, AUPRC_se])\n",
    "results = pd.DataFrame(rows, columns=[\"Model\", \"AUROC\", \"AUPRC\", \"AUROC_se\", \"AUPRC_se\"])\n",
    "results = results.sort_values('AUPRC', ascending = False)\n",
    "results"
   ]
  },
  {
   "cell_type": "code",
   "execution_count": 16,
   "id": "aea94e83",
   "metadata": {},
   "outputs": [
    {
     "name": "stderr",
     "output_type": "stream",
     "text": [
      "/accounts/grad/czye/GPN/gpn/analysis/gpn-star/train_and_eval/workflow/notebooks/plot.py:64: FutureWarning: \n",
      "\n",
      "Passing `palette` without assigning `hue` is deprecated and will be removed in v0.14.0. Assign the `y` variable to `hue` and set `legend=False` for the same effect.\n",
      "\n",
      "  sns.barplot(\n"
     ]
    },
    {
     "data": {
      "image/png": "[encoded data removed]",
      "text/plain": [
       "<Figure size 200x150 with 1 Axes>"
      ]
     },
     "metadata": {},
     "output_type": "display_data"
    }
   ],
   "source": [
    "barplot(\n",
    "    results,\n",
    "    \"AUPRC\",\n",
    "    pos_prop = pos_prop,\n",
    "    palette = palette,\n",
    "    figsize=(2,1.5),\n",
    "    title = r'$\\it{M.\\ musculus\\ }\\bf{\\sf{(MMRdb)}}$' + f\"\\npathogenic vs. common\\nn={n_pos} vs. {n_neg}\",\n",
    ")"
   ]
  },
  {
   "cell_type": "code",
   "execution_count": null,
   "id": "e0f9a2fd",
   "metadata": {},
   "outputs": [],
   "source": []
  }
 ],
 "metadata": {
  "kernelspec": {
   "display_name": "gpn_star",
   "language": "python",
   "name": "python3"
  },
  "language_info": {
   "codemirror_mode": {
    "name": "ipython",
    "version": 3
   },
   "file_extension": ".py",
   "mimetype": "text/x-python",
   "name": "python",
   "nbconvert_exporter": "python",
   "pygments_lexer": "ipython3",
   "version": "3.10.18"
  }
 },
 "nbformat": 4,
 "nbformat_minor": 5
}
